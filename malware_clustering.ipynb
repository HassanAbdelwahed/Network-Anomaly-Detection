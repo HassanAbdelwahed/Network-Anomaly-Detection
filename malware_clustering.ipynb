{
  "cells": [
    {
      "cell_type": "markdown",
      "metadata": {
        "id": "CW0QW7c53cp6"
      },
      "source": [
        "# Libraries"
      ]
    },
    {
      "cell_type": "code",
      "execution_count": 54,
      "metadata": {
        "id": "fSWjOWZh3bHB"
      },
      "outputs": [],
      "source": [
        "from google.colab import drive  #read files from drive\n",
        "import pandas as pd # handle the data as a dataframe\n",
        "import numpy as np  \n",
        "from scipy.spatial.distance import euclidean\n",
        "from math import log \n",
        "import matplotlib.pyplot as plt  #for any plots needed\n",
        "import seaborn as sns    # to add more beauty plots\n",
        "import random\n",
        "random.seed(42)\n",
        "\n",
        "from sklearn.preprocessing import LabelEncoder #encode categorical data to numerical\n",
        "from sklearn.cluster import KMeans"
      ]
    },
    {
      "cell_type": "code",
      "execution_count": 55,
      "metadata": {
        "colab": {
          "base_uri": "https://localhost:8080/"
        },
        "id": "MRaoE7Jt3jds",
        "outputId": "81fbf85d-3cd5-4f97-e49a-3679968f4a60"
      },
      "outputs": [
        {
          "output_type": "stream",
          "name": "stdout",
          "text": [
            "Drive already mounted at /content/drive; to attempt to forcibly remount, call drive.mount(\"/content/drive\", force_remount=True).\n"
          ]
        }
      ],
      "source": [
        "drive.mount('/content/drive')"
      ]
    },
    {
      "cell_type": "markdown",
      "metadata": {
        "id": "imEkkzwEK6Wv"
      },
      "source": [
        "# Import Data"
      ]
    },
    {
      "cell_type": "code",
      "execution_count": 56,
      "metadata": {
        "id": "-W091my-5kCX"
      },
      "outputs": [],
      "source": [
        "# Read the gzipped file directly into a Pandas DataFrame\n",
        "df = pd.read_csv('/content/drive/My Drive/Data/kddcup.data_10_percent.gz', compression='gzip', header=None)\n"
      ]
    },
    {
      "cell_type": "code",
      "execution_count": 57,
      "metadata": {
        "id": "qhSc9YPQRxfr"
      },
      "outputs": [],
      "source": [
        "test = pd.read_csv('/content/drive/My Drive/Data/corrected.gz', compression='gzip', header=None)"
      ]
    },
    {
      "cell_type": "code",
      "execution_count": 58,
      "metadata": {
        "id": "lwj9aFAy6MnH"
      },
      "outputs": [],
      "source": [
        "data_cols = ['duration',\n",
        " 'protocol_type',\n",
        " 'service',\n",
        " 'flag',\n",
        " 'src_bytes',\n",
        " 'dst_bytes',\n",
        " 'land',\n",
        " 'wrong_fragment',\n",
        " 'urgent',\n",
        " 'hot',\n",
        " 'num_failed_logins',\n",
        " 'logged_in',\n",
        " 'num_compromised',\n",
        " 'root_shell',\n",
        " 'su_attempted',\n",
        " 'num_root',\n",
        " 'num_file_creations',\n",
        " 'num_shells',\n",
        " 'num_access_files',\n",
        " 'num_outbound_cmds',\n",
        " 'is_host_login',\n",
        " 'is_guest_login',\n",
        " 'count',\n",
        " 'srv_count',\n",
        " 'serror_rate',\n",
        " 'srv_serror_rate',\n",
        " 'rerror_rate',\n",
        " 'srv_rerror_rate',\n",
        " 'same_srv_rate',\n",
        " 'diff_srv_rate',\n",
        " 'srv_diff_host_rate',\n",
        " 'dst_host_count',\n",
        " 'dst_host_srv_count',\n",
        " 'dst_host_same_srv_rate',\n",
        " 'dst_host_diff_srv_rate',\n",
        " 'dst_host_same_src_port_rate',\n",
        " 'dst_host_srv_diff_host_rate',\n",
        " 'dst_host_serror_rate',\n",
        " 'dst_host_srv_serror_rate',\n",
        " 'dst_host_rerror_rate',\n",
        " 'dst_host_srv_rerror_rate',\n",
        " 'target']"
      ]
    },
    {
      "cell_type": "code",
      "execution_count": 59,
      "metadata": {
        "id": "nwniEfhr6ZtK"
      },
      "outputs": [],
      "source": [
        "df.columns = data_cols\n",
        "test.columns = data_cols"
      ]
    },
    {
      "cell_type": "code",
      "execution_count": 60,
      "metadata": {
        "colab": {
          "base_uri": "https://localhost:8080/",
          "height": 300
        },
        "id": "FpuKrBR6998o",
        "outputId": "7e750fcf-6348-451c-a08d-bbefec113759"
      },
      "outputs": [
        {
          "output_type": "execute_result",
          "data": {
            "text/plain": [
              "   duration protocol_type service flag  src_bytes  dst_bytes  land  \\\n",
              "0         0           tcp    http   SF        181       5450     0   \n",
              "1         0           tcp    http   SF        239        486     0   \n",
              "2         0           tcp    http   SF        235       1337     0   \n",
              "3         0           tcp    http   SF        219       1337     0   \n",
              "4         0           tcp    http   SF        217       2032     0   \n",
              "\n",
              "   wrong_fragment  urgent  hot  ...  dst_host_srv_count  \\\n",
              "0               0       0    0  ...                   9   \n",
              "1               0       0    0  ...                  19   \n",
              "2               0       0    0  ...                  29   \n",
              "3               0       0    0  ...                  39   \n",
              "4               0       0    0  ...                  49   \n",
              "\n",
              "   dst_host_same_srv_rate  dst_host_diff_srv_rate  \\\n",
              "0                     1.0                     0.0   \n",
              "1                     1.0                     0.0   \n",
              "2                     1.0                     0.0   \n",
              "3                     1.0                     0.0   \n",
              "4                     1.0                     0.0   \n",
              "\n",
              "   dst_host_same_src_port_rate  dst_host_srv_diff_host_rate  \\\n",
              "0                         0.11                          0.0   \n",
              "1                         0.05                          0.0   \n",
              "2                         0.03                          0.0   \n",
              "3                         0.03                          0.0   \n",
              "4                         0.02                          0.0   \n",
              "\n",
              "   dst_host_serror_rate  dst_host_srv_serror_rate  dst_host_rerror_rate  \\\n",
              "0                   0.0                       0.0                   0.0   \n",
              "1                   0.0                       0.0                   0.0   \n",
              "2                   0.0                       0.0                   0.0   \n",
              "3                   0.0                       0.0                   0.0   \n",
              "4                   0.0                       0.0                   0.0   \n",
              "\n",
              "   dst_host_srv_rerror_rate   target  \n",
              "0                       0.0  normal.  \n",
              "1                       0.0  normal.  \n",
              "2                       0.0  normal.  \n",
              "3                       0.0  normal.  \n",
              "4                       0.0  normal.  \n",
              "\n",
              "[5 rows x 42 columns]"
            ],
            "text/html": [
              "\n",
              "  <div id=\"df-935034a8-8e27-4dcf-8a26-861175852e19\">\n",
              "    <div class=\"colab-df-container\">\n",
              "      <div>\n",
              "<style scoped>\n",
              "    .dataframe tbody tr th:only-of-type {\n",
              "        vertical-align: middle;\n",
              "    }\n",
              "\n",
              "    .dataframe tbody tr th {\n",
              "        vertical-align: top;\n",
              "    }\n",
              "\n",
              "    .dataframe thead th {\n",
              "        text-align: right;\n",
              "    }\n",
              "</style>\n",
              "<table border=\"1\" class=\"dataframe\">\n",
              "  <thead>\n",
              "    <tr style=\"text-align: right;\">\n",
              "      <th></th>\n",
              "      <th>duration</th>\n",
              "      <th>protocol_type</th>\n",
              "      <th>service</th>\n",
              "      <th>flag</th>\n",
              "      <th>src_bytes</th>\n",
              "      <th>dst_bytes</th>\n",
              "      <th>land</th>\n",
              "      <th>wrong_fragment</th>\n",
              "      <th>urgent</th>\n",
              "      <th>hot</th>\n",
              "      <th>...</th>\n",
              "      <th>dst_host_srv_count</th>\n",
              "      <th>dst_host_same_srv_rate</th>\n",
              "      <th>dst_host_diff_srv_rate</th>\n",
              "      <th>dst_host_same_src_port_rate</th>\n",
              "      <th>dst_host_srv_diff_host_rate</th>\n",
              "      <th>dst_host_serror_rate</th>\n",
              "      <th>dst_host_srv_serror_rate</th>\n",
              "      <th>dst_host_rerror_rate</th>\n",
              "      <th>dst_host_srv_rerror_rate</th>\n",
              "      <th>target</th>\n",
              "    </tr>\n",
              "  </thead>\n",
              "  <tbody>\n",
              "    <tr>\n",
              "      <th>0</th>\n",
              "      <td>0</td>\n",
              "      <td>tcp</td>\n",
              "      <td>http</td>\n",
              "      <td>SF</td>\n",
              "      <td>181</td>\n",
              "      <td>5450</td>\n",
              "      <td>0</td>\n",
              "      <td>0</td>\n",
              "      <td>0</td>\n",
              "      <td>0</td>\n",
              "      <td>...</td>\n",
              "      <td>9</td>\n",
              "      <td>1.0</td>\n",
              "      <td>0.0</td>\n",
              "      <td>0.11</td>\n",
              "      <td>0.0</td>\n",
              "      <td>0.0</td>\n",
              "      <td>0.0</td>\n",
              "      <td>0.0</td>\n",
              "      <td>0.0</td>\n",
              "      <td>normal.</td>\n",
              "    </tr>\n",
              "    <tr>\n",
              "      <th>1</th>\n",
              "      <td>0</td>\n",
              "      <td>tcp</td>\n",
              "      <td>http</td>\n",
              "      <td>SF</td>\n",
              "      <td>239</td>\n",
              "      <td>486</td>\n",
              "      <td>0</td>\n",
              "      <td>0</td>\n",
              "      <td>0</td>\n",
              "      <td>0</td>\n",
              "      <td>...</td>\n",
              "      <td>19</td>\n",
              "      <td>1.0</td>\n",
              "      <td>0.0</td>\n",
              "      <td>0.05</td>\n",
              "      <td>0.0</td>\n",
              "      <td>0.0</td>\n",
              "      <td>0.0</td>\n",
              "      <td>0.0</td>\n",
              "      <td>0.0</td>\n",
              "      <td>normal.</td>\n",
              "    </tr>\n",
              "    <tr>\n",
              "      <th>2</th>\n",
              "      <td>0</td>\n",
              "      <td>tcp</td>\n",
              "      <td>http</td>\n",
              "      <td>SF</td>\n",
              "      <td>235</td>\n",
              "      <td>1337</td>\n",
              "      <td>0</td>\n",
              "      <td>0</td>\n",
              "      <td>0</td>\n",
              "      <td>0</td>\n",
              "      <td>...</td>\n",
              "      <td>29</td>\n",
              "      <td>1.0</td>\n",
              "      <td>0.0</td>\n",
              "      <td>0.03</td>\n",
              "      <td>0.0</td>\n",
              "      <td>0.0</td>\n",
              "      <td>0.0</td>\n",
              "      <td>0.0</td>\n",
              "      <td>0.0</td>\n",
              "      <td>normal.</td>\n",
              "    </tr>\n",
              "    <tr>\n",
              "      <th>3</th>\n",
              "      <td>0</td>\n",
              "      <td>tcp</td>\n",
              "      <td>http</td>\n",
              "      <td>SF</td>\n",
              "      <td>219</td>\n",
              "      <td>1337</td>\n",
              "      <td>0</td>\n",
              "      <td>0</td>\n",
              "      <td>0</td>\n",
              "      <td>0</td>\n",
              "      <td>...</td>\n",
              "      <td>39</td>\n",
              "      <td>1.0</td>\n",
              "      <td>0.0</td>\n",
              "      <td>0.03</td>\n",
              "      <td>0.0</td>\n",
              "      <td>0.0</td>\n",
              "      <td>0.0</td>\n",
              "      <td>0.0</td>\n",
              "      <td>0.0</td>\n",
              "      <td>normal.</td>\n",
              "    </tr>\n",
              "    <tr>\n",
              "      <th>4</th>\n",
              "      <td>0</td>\n",
              "      <td>tcp</td>\n",
              "      <td>http</td>\n",
              "      <td>SF</td>\n",
              "      <td>217</td>\n",
              "      <td>2032</td>\n",
              "      <td>0</td>\n",
              "      <td>0</td>\n",
              "      <td>0</td>\n",
              "      <td>0</td>\n",
              "      <td>...</td>\n",
              "      <td>49</td>\n",
              "      <td>1.0</td>\n",
              "      <td>0.0</td>\n",
              "      <td>0.02</td>\n",
              "      <td>0.0</td>\n",
              "      <td>0.0</td>\n",
              "      <td>0.0</td>\n",
              "      <td>0.0</td>\n",
              "      <td>0.0</td>\n",
              "      <td>normal.</td>\n",
              "    </tr>\n",
              "  </tbody>\n",
              "</table>\n",
              "<p>5 rows × 42 columns</p>\n",
              "</div>\n",
              "      <button class=\"colab-df-convert\" onclick=\"convertToInteractive('df-935034a8-8e27-4dcf-8a26-861175852e19')\"\n",
              "              title=\"Convert this dataframe to an interactive table.\"\n",
              "              style=\"display:none;\">\n",
              "        \n",
              "  <svg xmlns=\"http://www.w3.org/2000/svg\" height=\"24px\"viewBox=\"0 0 24 24\"\n",
              "       width=\"24px\">\n",
              "    <path d=\"M0 0h24v24H0V0z\" fill=\"none\"/>\n",
              "    <path d=\"M18.56 5.44l.94 2.06.94-2.06 2.06-.94-2.06-.94-.94-2.06-.94 2.06-2.06.94zm-11 1L8.5 8.5l.94-2.06 2.06-.94-2.06-.94L8.5 2.5l-.94 2.06-2.06.94zm10 10l.94 2.06.94-2.06 2.06-.94-2.06-.94-.94-2.06-.94 2.06-2.06.94z\"/><path d=\"M17.41 7.96l-1.37-1.37c-.4-.4-.92-.59-1.43-.59-.52 0-1.04.2-1.43.59L10.3 9.45l-7.72 7.72c-.78.78-.78 2.05 0 2.83L4 21.41c.39.39.9.59 1.41.59.51 0 1.02-.2 1.41-.59l7.78-7.78 2.81-2.81c.8-.78.8-2.07 0-2.86zM5.41 20L4 18.59l7.72-7.72 1.47 1.35L5.41 20z\"/>\n",
              "  </svg>\n",
              "      </button>\n",
              "      \n",
              "  <style>\n",
              "    .colab-df-container {\n",
              "      display:flex;\n",
              "      flex-wrap:wrap;\n",
              "      gap: 12px;\n",
              "    }\n",
              "\n",
              "    .colab-df-convert {\n",
              "      background-color: #E8F0FE;\n",
              "      border: none;\n",
              "      border-radius: 50%;\n",
              "      cursor: pointer;\n",
              "      display: none;\n",
              "      fill: #1967D2;\n",
              "      height: 32px;\n",
              "      padding: 0 0 0 0;\n",
              "      width: 32px;\n",
              "    }\n",
              "\n",
              "    .colab-df-convert:hover {\n",
              "      background-color: #E2EBFA;\n",
              "      box-shadow: 0px 1px 2px rgba(60, 64, 67, 0.3), 0px 1px 3px 1px rgba(60, 64, 67, 0.15);\n",
              "      fill: #174EA6;\n",
              "    }\n",
              "\n",
              "    [theme=dark] .colab-df-convert {\n",
              "      background-color: #3B4455;\n",
              "      fill: #D2E3FC;\n",
              "    }\n",
              "\n",
              "    [theme=dark] .colab-df-convert:hover {\n",
              "      background-color: #434B5C;\n",
              "      box-shadow: 0px 1px 3px 1px rgba(0, 0, 0, 0.15);\n",
              "      filter: drop-shadow(0px 1px 2px rgba(0, 0, 0, 0.3));\n",
              "      fill: #FFFFFF;\n",
              "    }\n",
              "  </style>\n",
              "\n",
              "      <script>\n",
              "        const buttonEl =\n",
              "          document.querySelector('#df-935034a8-8e27-4dcf-8a26-861175852e19 button.colab-df-convert');\n",
              "        buttonEl.style.display =\n",
              "          google.colab.kernel.accessAllowed ? 'block' : 'none';\n",
              "\n",
              "        async function convertToInteractive(key) {\n",
              "          const element = document.querySelector('#df-935034a8-8e27-4dcf-8a26-861175852e19');\n",
              "          const dataTable =\n",
              "            await google.colab.kernel.invokeFunction('convertToInteractive',\n",
              "                                                     [key], {});\n",
              "          if (!dataTable) return;\n",
              "\n",
              "          const docLinkHtml = 'Like what you see? Visit the ' +\n",
              "            '<a target=\"_blank\" href=https://colab.research.google.com/notebooks/data_table.ipynb>data table notebook</a>'\n",
              "            + ' to learn more about interactive tables.';\n",
              "          element.innerHTML = '';\n",
              "          dataTable['output_type'] = 'display_data';\n",
              "          await google.colab.output.renderOutput(dataTable, element);\n",
              "          const docLink = document.createElement('div');\n",
              "          docLink.innerHTML = docLinkHtml;\n",
              "          element.appendChild(docLink);\n",
              "        }\n",
              "      </script>\n",
              "    </div>\n",
              "  </div>\n",
              "  "
            ]
          },
          "metadata": {},
          "execution_count": 60
        }
      ],
      "source": [
        "\n",
        "df.head()"
      ]
    },
    {
      "cell_type": "code",
      "execution_count": 61,
      "metadata": {
        "colab": {
          "base_uri": "https://localhost:8080/",
          "height": 300
        },
        "id": "09O34sMMBIy9",
        "outputId": "a8773b6d-82df-43fe-a6d4-881a49c8740c"
      },
      "outputs": [
        {
          "output_type": "execute_result",
          "data": {
            "text/plain": [
              "   duration protocol_type  service flag  src_bytes  dst_bytes  land  \\\n",
              "0         0           udp  private   SF        105        146     0   \n",
              "1         0           udp  private   SF        105        146     0   \n",
              "2         0           udp  private   SF        105        146     0   \n",
              "3         0           udp  private   SF        105        146     0   \n",
              "4         0           udp  private   SF        105        146     0   \n",
              "\n",
              "   wrong_fragment  urgent  hot  ...  dst_host_srv_count  \\\n",
              "0               0       0    0  ...                 254   \n",
              "1               0       0    0  ...                 254   \n",
              "2               0       0    0  ...                 254   \n",
              "3               0       0    0  ...                 254   \n",
              "4               0       0    0  ...                 254   \n",
              "\n",
              "   dst_host_same_srv_rate  dst_host_diff_srv_rate  \\\n",
              "0                     1.0                    0.01   \n",
              "1                     1.0                    0.01   \n",
              "2                     1.0                    0.01   \n",
              "3                     1.0                    0.01   \n",
              "4                     1.0                    0.01   \n",
              "\n",
              "   dst_host_same_src_port_rate  dst_host_srv_diff_host_rate  \\\n",
              "0                         0.00                          0.0   \n",
              "1                         0.00                          0.0   \n",
              "2                         0.00                          0.0   \n",
              "3                         0.00                          0.0   \n",
              "4                         0.01                          0.0   \n",
              "\n",
              "   dst_host_serror_rate  dst_host_srv_serror_rate  dst_host_rerror_rate  \\\n",
              "0                   0.0                       0.0                   0.0   \n",
              "1                   0.0                       0.0                   0.0   \n",
              "2                   0.0                       0.0                   0.0   \n",
              "3                   0.0                       0.0                   0.0   \n",
              "4                   0.0                       0.0                   0.0   \n",
              "\n",
              "   dst_host_srv_rerror_rate          target  \n",
              "0                       0.0         normal.  \n",
              "1                       0.0         normal.  \n",
              "2                       0.0         normal.  \n",
              "3                       0.0  snmpgetattack.  \n",
              "4                       0.0  snmpgetattack.  \n",
              "\n",
              "[5 rows x 42 columns]"
            ],
            "text/html": [
              "\n",
              "  <div id=\"df-0b6cc284-72ea-42d0-ba1f-a12094462654\">\n",
              "    <div class=\"colab-df-container\">\n",
              "      <div>\n",
              "<style scoped>\n",
              "    .dataframe tbody tr th:only-of-type {\n",
              "        vertical-align: middle;\n",
              "    }\n",
              "\n",
              "    .dataframe tbody tr th {\n",
              "        vertical-align: top;\n",
              "    }\n",
              "\n",
              "    .dataframe thead th {\n",
              "        text-align: right;\n",
              "    }\n",
              "</style>\n",
              "<table border=\"1\" class=\"dataframe\">\n",
              "  <thead>\n",
              "    <tr style=\"text-align: right;\">\n",
              "      <th></th>\n",
              "      <th>duration</th>\n",
              "      <th>protocol_type</th>\n",
              "      <th>service</th>\n",
              "      <th>flag</th>\n",
              "      <th>src_bytes</th>\n",
              "      <th>dst_bytes</th>\n",
              "      <th>land</th>\n",
              "      <th>wrong_fragment</th>\n",
              "      <th>urgent</th>\n",
              "      <th>hot</th>\n",
              "      <th>...</th>\n",
              "      <th>dst_host_srv_count</th>\n",
              "      <th>dst_host_same_srv_rate</th>\n",
              "      <th>dst_host_diff_srv_rate</th>\n",
              "      <th>dst_host_same_src_port_rate</th>\n",
              "      <th>dst_host_srv_diff_host_rate</th>\n",
              "      <th>dst_host_serror_rate</th>\n",
              "      <th>dst_host_srv_serror_rate</th>\n",
              "      <th>dst_host_rerror_rate</th>\n",
              "      <th>dst_host_srv_rerror_rate</th>\n",
              "      <th>target</th>\n",
              "    </tr>\n",
              "  </thead>\n",
              "  <tbody>\n",
              "    <tr>\n",
              "      <th>0</th>\n",
              "      <td>0</td>\n",
              "      <td>udp</td>\n",
              "      <td>private</td>\n",
              "      <td>SF</td>\n",
              "      <td>105</td>\n",
              "      <td>146</td>\n",
              "      <td>0</td>\n",
              "      <td>0</td>\n",
              "      <td>0</td>\n",
              "      <td>0</td>\n",
              "      <td>...</td>\n",
              "      <td>254</td>\n",
              "      <td>1.0</td>\n",
              "      <td>0.01</td>\n",
              "      <td>0.00</td>\n",
              "      <td>0.0</td>\n",
              "      <td>0.0</td>\n",
              "      <td>0.0</td>\n",
              "      <td>0.0</td>\n",
              "      <td>0.0</td>\n",
              "      <td>normal.</td>\n",
              "    </tr>\n",
              "    <tr>\n",
              "      <th>1</th>\n",
              "      <td>0</td>\n",
              "      <td>udp</td>\n",
              "      <td>private</td>\n",
              "      <td>SF</td>\n",
              "      <td>105</td>\n",
              "      <td>146</td>\n",
              "      <td>0</td>\n",
              "      <td>0</td>\n",
              "      <td>0</td>\n",
              "      <td>0</td>\n",
              "      <td>...</td>\n",
              "      <td>254</td>\n",
              "      <td>1.0</td>\n",
              "      <td>0.01</td>\n",
              "      <td>0.00</td>\n",
              "      <td>0.0</td>\n",
              "      <td>0.0</td>\n",
              "      <td>0.0</td>\n",
              "      <td>0.0</td>\n",
              "      <td>0.0</td>\n",
              "      <td>normal.</td>\n",
              "    </tr>\n",
              "    <tr>\n",
              "      <th>2</th>\n",
              "      <td>0</td>\n",
              "      <td>udp</td>\n",
              "      <td>private</td>\n",
              "      <td>SF</td>\n",
              "      <td>105</td>\n",
              "      <td>146</td>\n",
              "      <td>0</td>\n",
              "      <td>0</td>\n",
              "      <td>0</td>\n",
              "      <td>0</td>\n",
              "      <td>...</td>\n",
              "      <td>254</td>\n",
              "      <td>1.0</td>\n",
              "      <td>0.01</td>\n",
              "      <td>0.00</td>\n",
              "      <td>0.0</td>\n",
              "      <td>0.0</td>\n",
              "      <td>0.0</td>\n",
              "      <td>0.0</td>\n",
              "      <td>0.0</td>\n",
              "      <td>normal.</td>\n",
              "    </tr>\n",
              "    <tr>\n",
              "      <th>3</th>\n",
              "      <td>0</td>\n",
              "      <td>udp</td>\n",
              "      <td>private</td>\n",
              "      <td>SF</td>\n",
              "      <td>105</td>\n",
              "      <td>146</td>\n",
              "      <td>0</td>\n",
              "      <td>0</td>\n",
              "      <td>0</td>\n",
              "      <td>0</td>\n",
              "      <td>...</td>\n",
              "      <td>254</td>\n",
              "      <td>1.0</td>\n",
              "      <td>0.01</td>\n",
              "      <td>0.00</td>\n",
              "      <td>0.0</td>\n",
              "      <td>0.0</td>\n",
              "      <td>0.0</td>\n",
              "      <td>0.0</td>\n",
              "      <td>0.0</td>\n",
              "      <td>snmpgetattack.</td>\n",
              "    </tr>\n",
              "    <tr>\n",
              "      <th>4</th>\n",
              "      <td>0</td>\n",
              "      <td>udp</td>\n",
              "      <td>private</td>\n",
              "      <td>SF</td>\n",
              "      <td>105</td>\n",
              "      <td>146</td>\n",
              "      <td>0</td>\n",
              "      <td>0</td>\n",
              "      <td>0</td>\n",
              "      <td>0</td>\n",
              "      <td>...</td>\n",
              "      <td>254</td>\n",
              "      <td>1.0</td>\n",
              "      <td>0.01</td>\n",
              "      <td>0.01</td>\n",
              "      <td>0.0</td>\n",
              "      <td>0.0</td>\n",
              "      <td>0.0</td>\n",
              "      <td>0.0</td>\n",
              "      <td>0.0</td>\n",
              "      <td>snmpgetattack.</td>\n",
              "    </tr>\n",
              "  </tbody>\n",
              "</table>\n",
              "<p>5 rows × 42 columns</p>\n",
              "</div>\n",
              "      <button class=\"colab-df-convert\" onclick=\"convertToInteractive('df-0b6cc284-72ea-42d0-ba1f-a12094462654')\"\n",
              "              title=\"Convert this dataframe to an interactive table.\"\n",
              "              style=\"display:none;\">\n",
              "        \n",
              "  <svg xmlns=\"http://www.w3.org/2000/svg\" height=\"24px\"viewBox=\"0 0 24 24\"\n",
              "       width=\"24px\">\n",
              "    <path d=\"M0 0h24v24H0V0z\" fill=\"none\"/>\n",
              "    <path d=\"M18.56 5.44l.94 2.06.94-2.06 2.06-.94-2.06-.94-.94-2.06-.94 2.06-2.06.94zm-11 1L8.5 8.5l.94-2.06 2.06-.94-2.06-.94L8.5 2.5l-.94 2.06-2.06.94zm10 10l.94 2.06.94-2.06 2.06-.94-2.06-.94-.94-2.06-.94 2.06-2.06.94z\"/><path d=\"M17.41 7.96l-1.37-1.37c-.4-.4-.92-.59-1.43-.59-.52 0-1.04.2-1.43.59L10.3 9.45l-7.72 7.72c-.78.78-.78 2.05 0 2.83L4 21.41c.39.39.9.59 1.41.59.51 0 1.02-.2 1.41-.59l7.78-7.78 2.81-2.81c.8-.78.8-2.07 0-2.86zM5.41 20L4 18.59l7.72-7.72 1.47 1.35L5.41 20z\"/>\n",
              "  </svg>\n",
              "      </button>\n",
              "      \n",
              "  <style>\n",
              "    .colab-df-container {\n",
              "      display:flex;\n",
              "      flex-wrap:wrap;\n",
              "      gap: 12px;\n",
              "    }\n",
              "\n",
              "    .colab-df-convert {\n",
              "      background-color: #E8F0FE;\n",
              "      border: none;\n",
              "      border-radius: 50%;\n",
              "      cursor: pointer;\n",
              "      display: none;\n",
              "      fill: #1967D2;\n",
              "      height: 32px;\n",
              "      padding: 0 0 0 0;\n",
              "      width: 32px;\n",
              "    }\n",
              "\n",
              "    .colab-df-convert:hover {\n",
              "      background-color: #E2EBFA;\n",
              "      box-shadow: 0px 1px 2px rgba(60, 64, 67, 0.3), 0px 1px 3px 1px rgba(60, 64, 67, 0.15);\n",
              "      fill: #174EA6;\n",
              "    }\n",
              "\n",
              "    [theme=dark] .colab-df-convert {\n",
              "      background-color: #3B4455;\n",
              "      fill: #D2E3FC;\n",
              "    }\n",
              "\n",
              "    [theme=dark] .colab-df-convert:hover {\n",
              "      background-color: #434B5C;\n",
              "      box-shadow: 0px 1px 3px 1px rgba(0, 0, 0, 0.15);\n",
              "      filter: drop-shadow(0px 1px 2px rgba(0, 0, 0, 0.3));\n",
              "      fill: #FFFFFF;\n",
              "    }\n",
              "  </style>\n",
              "\n",
              "      <script>\n",
              "        const buttonEl =\n",
              "          document.querySelector('#df-0b6cc284-72ea-42d0-ba1f-a12094462654 button.colab-df-convert');\n",
              "        buttonEl.style.display =\n",
              "          google.colab.kernel.accessAllowed ? 'block' : 'none';\n",
              "\n",
              "        async function convertToInteractive(key) {\n",
              "          const element = document.querySelector('#df-0b6cc284-72ea-42d0-ba1f-a12094462654');\n",
              "          const dataTable =\n",
              "            await google.colab.kernel.invokeFunction('convertToInteractive',\n",
              "                                                     [key], {});\n",
              "          if (!dataTable) return;\n",
              "\n",
              "          const docLinkHtml = 'Like what you see? Visit the ' +\n",
              "            '<a target=\"_blank\" href=https://colab.research.google.com/notebooks/data_table.ipynb>data table notebook</a>'\n",
              "            + ' to learn more about interactive tables.';\n",
              "          element.innerHTML = '';\n",
              "          dataTable['output_type'] = 'display_data';\n",
              "          await google.colab.output.renderOutput(dataTable, element);\n",
              "          const docLink = document.createElement('div');\n",
              "          docLink.innerHTML = docLinkHtml;\n",
              "          element.appendChild(docLink);\n",
              "        }\n",
              "      </script>\n",
              "    </div>\n",
              "  </div>\n",
              "  "
            ]
          },
          "metadata": {},
          "execution_count": 61
        }
      ],
      "source": [
        "test.head()"
      ]
    },
    {
      "cell_type": "code",
      "execution_count": 62,
      "metadata": {
        "colab": {
          "base_uri": "https://localhost:8080/"
        },
        "id": "gfwNpgk6-B4d",
        "outputId": "5fb15374-a5cc-483d-b4e3-95c2413977cd"
      },
      "outputs": [
        {
          "output_type": "stream",
          "name": "stdout",
          "text": [
            "<class 'pandas.core.frame.DataFrame'>\n",
            "RangeIndex: 494021 entries, 0 to 494020\n",
            "Data columns (total 42 columns):\n",
            " #   Column                       Non-Null Count   Dtype  \n",
            "---  ------                       --------------   -----  \n",
            " 0   duration                     494021 non-null  int64  \n",
            " 1   protocol_type                494021 non-null  object \n",
            " 2   service                      494021 non-null  object \n",
            " 3   flag                         494021 non-null  object \n",
            " 4   src_bytes                    494021 non-null  int64  \n",
            " 5   dst_bytes                    494021 non-null  int64  \n",
            " 6   land                         494021 non-null  int64  \n",
            " 7   wrong_fragment               494021 non-null  int64  \n",
            " 8   urgent                       494021 non-null  int64  \n",
            " 9   hot                          494021 non-null  int64  \n",
            " 10  num_failed_logins            494021 non-null  int64  \n",
            " 11  logged_in                    494021 non-null  int64  \n",
            " 12  num_compromised              494021 non-null  int64  \n",
            " 13  root_shell                   494021 non-null  int64  \n",
            " 14  su_attempted                 494021 non-null  int64  \n",
            " 15  num_root                     494021 non-null  int64  \n",
            " 16  num_file_creations           494021 non-null  int64  \n",
            " 17  num_shells                   494021 non-null  int64  \n",
            " 18  num_access_files             494021 non-null  int64  \n",
            " 19  num_outbound_cmds            494021 non-null  int64  \n",
            " 20  is_host_login                494021 non-null  int64  \n",
            " 21  is_guest_login               494021 non-null  int64  \n",
            " 22  count                        494021 non-null  int64  \n",
            " 23  srv_count                    494021 non-null  int64  \n",
            " 24  serror_rate                  494021 non-null  float64\n",
            " 25  srv_serror_rate              494021 non-null  float64\n",
            " 26  rerror_rate                  494021 non-null  float64\n",
            " 27  srv_rerror_rate              494021 non-null  float64\n",
            " 28  same_srv_rate                494021 non-null  float64\n",
            " 29  diff_srv_rate                494021 non-null  float64\n",
            " 30  srv_diff_host_rate           494021 non-null  float64\n",
            " 31  dst_host_count               494021 non-null  int64  \n",
            " 32  dst_host_srv_count           494021 non-null  int64  \n",
            " 33  dst_host_same_srv_rate       494021 non-null  float64\n",
            " 34  dst_host_diff_srv_rate       494021 non-null  float64\n",
            " 35  dst_host_same_src_port_rate  494021 non-null  float64\n",
            " 36  dst_host_srv_diff_host_rate  494021 non-null  float64\n",
            " 37  dst_host_serror_rate         494021 non-null  float64\n",
            " 38  dst_host_srv_serror_rate     494021 non-null  float64\n",
            " 39  dst_host_rerror_rate         494021 non-null  float64\n",
            " 40  dst_host_srv_rerror_rate     494021 non-null  float64\n",
            " 41  target                       494021 non-null  object \n",
            "dtypes: float64(15), int64(23), object(4)\n",
            "memory usage: 158.3+ MB\n"
          ]
        }
      ],
      "source": [
        "df.info()"
      ]
    },
    {
      "cell_type": "code",
      "execution_count": 63,
      "metadata": {
        "colab": {
          "base_uri": "https://localhost:8080/"
        },
        "id": "xKXn_h7uDwtk",
        "outputId": "1e8e2630-c173-4c77-853f-143e809e378c"
      },
      "outputs": [
        {
          "output_type": "stream",
          "name": "stdout",
          "text": [
            "<class 'pandas.core.frame.DataFrame'>\n",
            "RangeIndex: 311029 entries, 0 to 311028\n",
            "Data columns (total 42 columns):\n",
            " #   Column                       Non-Null Count   Dtype  \n",
            "---  ------                       --------------   -----  \n",
            " 0   duration                     311029 non-null  int64  \n",
            " 1   protocol_type                311029 non-null  object \n",
            " 2   service                      311029 non-null  object \n",
            " 3   flag                         311029 non-null  object \n",
            " 4   src_bytes                    311029 non-null  int64  \n",
            " 5   dst_bytes                    311029 non-null  int64  \n",
            " 6   land                         311029 non-null  int64  \n",
            " 7   wrong_fragment               311029 non-null  int64  \n",
            " 8   urgent                       311029 non-null  int64  \n",
            " 9   hot                          311029 non-null  int64  \n",
            " 10  num_failed_logins            311029 non-null  int64  \n",
            " 11  logged_in                    311029 non-null  int64  \n",
            " 12  num_compromised              311029 non-null  int64  \n",
            " 13  root_shell                   311029 non-null  int64  \n",
            " 14  su_attempted                 311029 non-null  int64  \n",
            " 15  num_root                     311029 non-null  int64  \n",
            " 16  num_file_creations           311029 non-null  int64  \n",
            " 17  num_shells                   311029 non-null  int64  \n",
            " 18  num_access_files             311029 non-null  int64  \n",
            " 19  num_outbound_cmds            311029 non-null  int64  \n",
            " 20  is_host_login                311029 non-null  int64  \n",
            " 21  is_guest_login               311029 non-null  int64  \n",
            " 22  count                        311029 non-null  int64  \n",
            " 23  srv_count                    311029 non-null  int64  \n",
            " 24  serror_rate                  311029 non-null  float64\n",
            " 25  srv_serror_rate              311029 non-null  float64\n",
            " 26  rerror_rate                  311029 non-null  float64\n",
            " 27  srv_rerror_rate              311029 non-null  float64\n",
            " 28  same_srv_rate                311029 non-null  float64\n",
            " 29  diff_srv_rate                311029 non-null  float64\n",
            " 30  srv_diff_host_rate           311029 non-null  float64\n",
            " 31  dst_host_count               311029 non-null  int64  \n",
            " 32  dst_host_srv_count           311029 non-null  int64  \n",
            " 33  dst_host_same_srv_rate       311029 non-null  float64\n",
            " 34  dst_host_diff_srv_rate       311029 non-null  float64\n",
            " 35  dst_host_same_src_port_rate  311029 non-null  float64\n",
            " 36  dst_host_srv_diff_host_rate  311029 non-null  float64\n",
            " 37  dst_host_serror_rate         311029 non-null  float64\n",
            " 38  dst_host_srv_serror_rate     311029 non-null  float64\n",
            " 39  dst_host_rerror_rate         311029 non-null  float64\n",
            " 40  dst_host_srv_rerror_rate     311029 non-null  float64\n",
            " 41  target                       311029 non-null  object \n",
            "dtypes: float64(15), int64(23), object(4)\n",
            "memory usage: 99.7+ MB\n"
          ]
        }
      ],
      "source": [
        "test.info()"
      ]
    },
    {
      "cell_type": "code",
      "execution_count": 64,
      "metadata": {
        "id": "UADu688zDF_g"
      },
      "outputs": [],
      "source": [
        "test = test[test['service'] != 'icmp']"
      ]
    },
    {
      "cell_type": "markdown",
      "metadata": {
        "id": "HfIrPWcHCNYj"
      },
      "source": [
        "# Data Preprocessing"
      ]
    },
    {
      "cell_type": "code",
      "execution_count": 65,
      "metadata": {
        "id": "3DMqXO2U_AS0"
      },
      "outputs": [],
      "source": [
        "def encoder(df):\n",
        "\n",
        "  le = LabelEncoder()\n",
        "  protocol_encoder = le.fit(df['protocol_type'])\n",
        "  df['protocol_type'] = protocol_encoder.transform(df['protocol_type'])\n",
        "\n",
        "\n",
        "  service_encoder = le.fit(df['service'])\n",
        "  df['service'] = service_encoder.transform(df['service'])\n",
        "\n",
        "  flag_encoder = le.fit(df['flag'])\n",
        "  df['flag'] = flag_encoder.transform(df['flag'])\n",
        "  \n",
        "  target_encoder = le.fit(df['target'])\n",
        "  df['target'] = target_encoder.transform(df['target'])\n",
        "\n",
        "  return df"
      ]
    },
    {
      "cell_type": "code",
      "execution_count": 66,
      "metadata": {
        "id": "kWbItxvk_HnH"
      },
      "outputs": [],
      "source": [
        "def drop_unnecessary_cols(df, cols):\n",
        "  df.drop(columns = cols, inplace = True)\n",
        "  return df\n",
        "  "
      ]
    },
    {
      "cell_type": "code",
      "execution_count": 67,
      "metadata": {
        "id": "2iSse4LoMlPs"
      },
      "outputs": [],
      "source": [
        "df= encoder(df)\n",
        "test = encoder(test)"
      ]
    },
    {
      "cell_type": "code",
      "execution_count": 68,
      "metadata": {
        "colab": {
          "base_uri": "https://localhost:8080/"
        },
        "id": "_3kUyvtFJhQX",
        "outputId": "c3588bfc-4e02-40e2-d730-afbd3839cf11"
      },
      "outputs": [
        {
          "output_type": "stream",
          "name": "stdout",
          "text": [
            "<class 'pandas.core.frame.DataFrame'>\n",
            "RangeIndex: 494021 entries, 0 to 494020\n",
            "Data columns (total 42 columns):\n",
            " #   Column                       Non-Null Count   Dtype  \n",
            "---  ------                       --------------   -----  \n",
            " 0   duration                     494021 non-null  int64  \n",
            " 1   protocol_type                494021 non-null  int64  \n",
            " 2   service                      494021 non-null  int64  \n",
            " 3   flag                         494021 non-null  int64  \n",
            " 4   src_bytes                    494021 non-null  int64  \n",
            " 5   dst_bytes                    494021 non-null  int64  \n",
            " 6   land                         494021 non-null  int64  \n",
            " 7   wrong_fragment               494021 non-null  int64  \n",
            " 8   urgent                       494021 non-null  int64  \n",
            " 9   hot                          494021 non-null  int64  \n",
            " 10  num_failed_logins            494021 non-null  int64  \n",
            " 11  logged_in                    494021 non-null  int64  \n",
            " 12  num_compromised              494021 non-null  int64  \n",
            " 13  root_shell                   494021 non-null  int64  \n",
            " 14  su_attempted                 494021 non-null  int64  \n",
            " 15  num_root                     494021 non-null  int64  \n",
            " 16  num_file_creations           494021 non-null  int64  \n",
            " 17  num_shells                   494021 non-null  int64  \n",
            " 18  num_access_files             494021 non-null  int64  \n",
            " 19  num_outbound_cmds            494021 non-null  int64  \n",
            " 20  is_host_login                494021 non-null  int64  \n",
            " 21  is_guest_login               494021 non-null  int64  \n",
            " 22  count                        494021 non-null  int64  \n",
            " 23  srv_count                    494021 non-null  int64  \n",
            " 24  serror_rate                  494021 non-null  float64\n",
            " 25  srv_serror_rate              494021 non-null  float64\n",
            " 26  rerror_rate                  494021 non-null  float64\n",
            " 27  srv_rerror_rate              494021 non-null  float64\n",
            " 28  same_srv_rate                494021 non-null  float64\n",
            " 29  diff_srv_rate                494021 non-null  float64\n",
            " 30  srv_diff_host_rate           494021 non-null  float64\n",
            " 31  dst_host_count               494021 non-null  int64  \n",
            " 32  dst_host_srv_count           494021 non-null  int64  \n",
            " 33  dst_host_same_srv_rate       494021 non-null  float64\n",
            " 34  dst_host_diff_srv_rate       494021 non-null  float64\n",
            " 35  dst_host_same_src_port_rate  494021 non-null  float64\n",
            " 36  dst_host_srv_diff_host_rate  494021 non-null  float64\n",
            " 37  dst_host_serror_rate         494021 non-null  float64\n",
            " 38  dst_host_srv_serror_rate     494021 non-null  float64\n",
            " 39  dst_host_rerror_rate         494021 non-null  float64\n",
            " 40  dst_host_srv_rerror_rate     494021 non-null  float64\n",
            " 41  target                       494021 non-null  int64  \n",
            "dtypes: float64(15), int64(27)\n",
            "memory usage: 158.3 MB\n"
          ]
        }
      ],
      "source": [
        "df.info()"
      ]
    },
    {
      "cell_type": "code",
      "execution_count": 69,
      "metadata": {
        "colab": {
          "base_uri": "https://localhost:8080/"
        },
        "id": "KPGMzAnrJvf6",
        "outputId": "f9ce12c8-ab0c-4c4e-b28a-51cb7fa88f00"
      },
      "outputs": [
        {
          "output_type": "stream",
          "name": "stdout",
          "text": [
            "<class 'pandas.core.frame.DataFrame'>\n",
            "Int64Index: 311027 entries, 0 to 311028\n",
            "Data columns (total 42 columns):\n",
            " #   Column                       Non-Null Count   Dtype  \n",
            "---  ------                       --------------   -----  \n",
            " 0   duration                     311027 non-null  int64  \n",
            " 1   protocol_type                311027 non-null  int64  \n",
            " 2   service                      311027 non-null  int64  \n",
            " 3   flag                         311027 non-null  int64  \n",
            " 4   src_bytes                    311027 non-null  int64  \n",
            " 5   dst_bytes                    311027 non-null  int64  \n",
            " 6   land                         311027 non-null  int64  \n",
            " 7   wrong_fragment               311027 non-null  int64  \n",
            " 8   urgent                       311027 non-null  int64  \n",
            " 9   hot                          311027 non-null  int64  \n",
            " 10  num_failed_logins            311027 non-null  int64  \n",
            " 11  logged_in                    311027 non-null  int64  \n",
            " 12  num_compromised              311027 non-null  int64  \n",
            " 13  root_shell                   311027 non-null  int64  \n",
            " 14  su_attempted                 311027 non-null  int64  \n",
            " 15  num_root                     311027 non-null  int64  \n",
            " 16  num_file_creations           311027 non-null  int64  \n",
            " 17  num_shells                   311027 non-null  int64  \n",
            " 18  num_access_files             311027 non-null  int64  \n",
            " 19  num_outbound_cmds            311027 non-null  int64  \n",
            " 20  is_host_login                311027 non-null  int64  \n",
            " 21  is_guest_login               311027 non-null  int64  \n",
            " 22  count                        311027 non-null  int64  \n",
            " 23  srv_count                    311027 non-null  int64  \n",
            " 24  serror_rate                  311027 non-null  float64\n",
            " 25  srv_serror_rate              311027 non-null  float64\n",
            " 26  rerror_rate                  311027 non-null  float64\n",
            " 27  srv_rerror_rate              311027 non-null  float64\n",
            " 28  same_srv_rate                311027 non-null  float64\n",
            " 29  diff_srv_rate                311027 non-null  float64\n",
            " 30  srv_diff_host_rate           311027 non-null  float64\n",
            " 31  dst_host_count               311027 non-null  int64  \n",
            " 32  dst_host_srv_count           311027 non-null  int64  \n",
            " 33  dst_host_same_srv_rate       311027 non-null  float64\n",
            " 34  dst_host_diff_srv_rate       311027 non-null  float64\n",
            " 35  dst_host_same_src_port_rate  311027 non-null  float64\n",
            " 36  dst_host_srv_diff_host_rate  311027 non-null  float64\n",
            " 37  dst_host_serror_rate         311027 non-null  float64\n",
            " 38  dst_host_srv_serror_rate     311027 non-null  float64\n",
            " 39  dst_host_rerror_rate         311027 non-null  float64\n",
            " 40  dst_host_srv_rerror_rate     311027 non-null  float64\n",
            " 41  target                       311027 non-null  int64  \n",
            "dtypes: float64(15), int64(27)\n",
            "memory usage: 102.0 MB\n"
          ]
        }
      ],
      "source": [
        "test.info()"
      ]
    },
    {
      "cell_type": "code",
      "execution_count": 70,
      "metadata": {
        "colab": {
          "base_uri": "https://localhost:8080/"
        },
        "id": "geuA0878NqpL",
        "outputId": "b107f6b5-a4ef-44c6-978d-0f611d4f799b"
      },
      "outputs": [
        {
          "output_type": "stream",
          "name": "stdout",
          "text": [
            "feature: duration\n",
            "0        481671\n",
            "1          2476\n",
            "2           870\n",
            "3           625\n",
            "5           554\n",
            "          ...  \n",
            "18185         1\n",
            "4283          1\n",
            "2154          1\n",
            "1007          1\n",
            "120           1\n",
            "Name: duration, Length: 2495, dtype: int64\n",
            "\n",
            "feature: protocol_type\n",
            "0    283602\n",
            "1    190065\n",
            "2     20354\n",
            "Name: protocol_type, dtype: int64\n",
            "\n",
            "feature: service\n",
            "14    281400\n",
            "45    110893\n",
            "22     64293\n",
            "50      9723\n",
            "40      7237\n",
            "       ...  \n",
            "1         11\n",
            "58         7\n",
            "41         1\n",
            "57         1\n",
            "46         1\n",
            "Name: service, Length: 66, dtype: int64\n",
            "\n",
            "feature: flag\n",
            "9     378440\n",
            "5      87007\n",
            "1      26875\n",
            "4        903\n",
            "2        579\n",
            "10       107\n",
            "6         57\n",
            "7         24\n",
            "3         11\n",
            "8         10\n",
            "0          8\n",
            "Name: flag, dtype: int64\n",
            "\n",
            "feature: src_bytes\n",
            "1032     228035\n",
            "0        115342\n",
            "520       52774\n",
            "105        7370\n",
            "147        2725\n",
            "          ...  \n",
            "6927          1\n",
            "2315          1\n",
            "11898         1\n",
            "12289         1\n",
            "475           1\n",
            "Name: src_bytes, Length: 3300, dtype: int64\n",
            "\n",
            "feature: dst_bytes\n",
            "0        408258\n",
            "105        4451\n",
            "147        2501\n",
            "146        2289\n",
            "8314       2133\n",
            "          ...  \n",
            "11707         1\n",
            "1258          1\n",
            "21324         1\n",
            "53843         1\n",
            "13828         1\n",
            "Name: dst_bytes, Length: 10725, dtype: int64\n",
            "\n",
            "feature: land\n",
            "0    493999\n",
            "1        22\n",
            "Name: land, dtype: int64\n",
            "\n",
            "feature: wrong_fragment\n",
            "0    492783\n",
            "3       970\n",
            "1       268\n",
            "Name: wrong_fragment, dtype: int64\n",
            "\n",
            "feature: urgent\n",
            "0    494017\n",
            "1         2\n",
            "2         1\n",
            "3         1\n",
            "Name: urgent, dtype: int64\n",
            "\n",
            "feature: hot\n",
            "0     490829\n",
            "2       2192\n",
            "28       274\n",
            "1        256\n",
            "4        112\n",
            "6        104\n",
            "5         51\n",
            "3         38\n",
            "14        37\n",
            "30        28\n",
            "22        28\n",
            "19        23\n",
            "24        13\n",
            "18        13\n",
            "20        10\n",
            "7          5\n",
            "17         2\n",
            "12         2\n",
            "16         1\n",
            "10         1\n",
            "15         1\n",
            "9          1\n",
            "Name: hot, dtype: int64\n",
            "\n",
            "feature: num_failed_logins\n",
            "0    493958\n",
            "1        57\n",
            "2         3\n",
            "5         1\n",
            "4         1\n",
            "3         1\n",
            "Name: num_failed_logins, dtype: int64\n",
            "\n",
            "feature: logged_in\n",
            "0    420784\n",
            "1     73237\n",
            "Name: logged_in, dtype: int64\n",
            "\n",
            "feature: num_compromised\n",
            "0      491797\n",
            "1        2151\n",
            "2          24\n",
            "4          16\n",
            "3          11\n",
            "6           3\n",
            "5           2\n",
            "7           2\n",
            "767         1\n",
            "12          1\n",
            "9           1\n",
            "884         1\n",
            "13          1\n",
            "38          1\n",
            "18          1\n",
            "11          1\n",
            "275         1\n",
            "281         1\n",
            "16          1\n",
            "238         1\n",
            "21          1\n",
            "22          1\n",
            "102         1\n",
            "Name: num_compromised, dtype: int64\n",
            "\n",
            "feature: root_shell\n",
            "0    493966\n",
            "1        55\n",
            "Name: root_shell, dtype: int64\n",
            "\n",
            "feature: su_attempted\n",
            "0    494009\n",
            "1         6\n",
            "2         6\n",
            "Name: su_attempted, dtype: int64\n",
            "\n",
            "feature: num_root\n",
            "0      493436\n",
            "1         233\n",
            "9         167\n",
            "6         126\n",
            "2          22\n",
            "5          12\n",
            "4          10\n",
            "3           3\n",
            "7           1\n",
            "993         1\n",
            "54          1\n",
            "306         1\n",
            "14          1\n",
            "39          1\n",
            "278         1\n",
            "268         1\n",
            "12          1\n",
            "857         1\n",
            "16          1\n",
            "119         1\n",
            "Name: num_root, dtype: int64\n",
            "\n",
            "feature: num_file_creations\n",
            "0     493756\n",
            "1        207\n",
            "2         36\n",
            "4          7\n",
            "16         2\n",
            "5          1\n",
            "22         1\n",
            "25         1\n",
            "12         1\n",
            "8          1\n",
            "7          1\n",
            "21         1\n",
            "14         1\n",
            "10         1\n",
            "28         1\n",
            "9          1\n",
            "15         1\n",
            "20         1\n",
            "Name: num_file_creations, dtype: int64\n",
            "\n",
            "feature: num_shells\n",
            "0    493970\n",
            "1        48\n",
            "2         3\n",
            "Name: num_shells, dtype: int64\n",
            "\n",
            "feature: num_access_files\n",
            "0    493567\n",
            "1       424\n",
            "2        25\n",
            "3         2\n",
            "4         1\n",
            "6         1\n",
            "8         1\n",
            "Name: num_access_files, dtype: int64\n",
            "\n",
            "feature: num_outbound_cmds\n",
            "0    494021\n",
            "Name: num_outbound_cmds, dtype: int64\n",
            "\n",
            "feature: is_host_login\n",
            "0    494021\n",
            "Name: is_host_login, dtype: int64\n",
            "\n",
            "feature: is_guest_login\n",
            "0    493336\n",
            "1       685\n",
            "Name: is_guest_login, dtype: int64\n",
            "\n",
            "feature: count\n",
            "511    227895\n",
            "1       39214\n",
            "510     26598\n",
            "2       11219\n",
            "3        5812\n",
            "        ...  \n",
            "354         1\n",
            "422         1\n",
            "333         1\n",
            "415         1\n",
            "407         1\n",
            "Name: count, Length: 490, dtype: int64\n",
            "\n",
            "feature: srv_count\n",
            "511    226559\n",
            "1       37001\n",
            "510     26898\n",
            "2       18857\n",
            "3       11280\n",
            "        ...  \n",
            "414         1\n",
            "370         1\n",
            "288         1\n",
            "362         1\n",
            "407         1\n",
            "Name: srv_count, Length: 470, dtype: int64\n",
            "\n",
            "feature: serror_rate\n",
            "0.00    404787\n",
            "1.00     86537\n",
            "0.99       311\n",
            "0.08       155\n",
            "0.05       150\n",
            "         ...  \n",
            "0.87         1\n",
            "0.80         1\n",
            "0.90         1\n",
            "0.34         1\n",
            "0.89         1\n",
            "Name: serror_rate, Length: 92, dtype: int64\n",
            "\n",
            "feature: srv_serror_rate\n",
            "0.00    405686\n",
            "1.00     87052\n",
            "0.03       139\n",
            "0.04       120\n",
            "0.05       109\n",
            "0.06        98\n",
            "0.02        84\n",
            "0.50        78\n",
            "0.08        73\n",
            "0.07        68\n",
            "0.25        56\n",
            "0.33        55\n",
            "0.17        51\n",
            "0.09        48\n",
            "0.10        46\n",
            "0.20        45\n",
            "0.12        43\n",
            "0.11        43\n",
            "0.14        34\n",
            "0.01        10\n",
            "0.67         9\n",
            "0.18         6\n",
            "0.92         6\n",
            "0.95         5\n",
            "0.94         5\n",
            "0.88         4\n",
            "0.19         4\n",
            "0.58         4\n",
            "0.75         4\n",
            "0.83         3\n",
            "0.76         3\n",
            "0.15         3\n",
            "0.91         3\n",
            "0.40         3\n",
            "0.85         2\n",
            "0.27         2\n",
            "0.22         2\n",
            "0.93         2\n",
            "0.16         1\n",
            "0.38         1\n",
            "0.36         1\n",
            "0.35         1\n",
            "0.45         1\n",
            "0.21         1\n",
            "0.44         1\n",
            "0.23         1\n",
            "0.51         1\n",
            "0.86         1\n",
            "0.90         1\n",
            "0.80         1\n",
            "0.37         1\n",
            "Name: srv_serror_rate, dtype: int64\n",
            "\n",
            "feature: rerror_rate\n",
            "0.00    464948\n",
            "1.00     26979\n",
            "0.86       113\n",
            "0.87       102\n",
            "0.92        97\n",
            "         ...  \n",
            "0.66         1\n",
            "0.31         1\n",
            "0.32         1\n",
            "0.34         1\n",
            "0.24         1\n",
            "Name: rerror_rate, Length: 77, dtype: int64\n",
            "\n",
            "feature: srv_rerror_rate\n",
            "0.00    464320\n",
            "1.00     28116\n",
            "0.33       252\n",
            "0.50       201\n",
            "0.25       173\n",
            "0.20       143\n",
            "0.17       128\n",
            "0.14        73\n",
            "0.04        63\n",
            "0.03        61\n",
            "0.12        57\n",
            "0.06        54\n",
            "0.02        54\n",
            "0.05        41\n",
            "0.07        36\n",
            "0.40        30\n",
            "0.67        28\n",
            "0.08        28\n",
            "0.11        26\n",
            "0.29        25\n",
            "0.09        24\n",
            "0.10        16\n",
            "0.75        11\n",
            "0.60        11\n",
            "0.01         6\n",
            "0.71         4\n",
            "0.22         4\n",
            "0.83         3\n",
            "0.86         3\n",
            "0.18         2\n",
            "0.96         2\n",
            "0.79         2\n",
            "0.43         2\n",
            "0.92         2\n",
            "0.81         2\n",
            "0.88         2\n",
            "0.73         2\n",
            "0.69         1\n",
            "0.94         1\n",
            "0.62         1\n",
            "0.80         1\n",
            "0.85         1\n",
            "0.93         1\n",
            "0.82         1\n",
            "0.27         1\n",
            "0.37         1\n",
            "0.21         1\n",
            "0.38         1\n",
            "0.87         1\n",
            "0.95         1\n",
            "0.13         1\n",
            "Name: srv_rerror_rate, dtype: int64\n",
            "\n",
            "feature: same_srv_rate\n",
            "1.00    382079\n",
            "0.06     11196\n",
            "0.05     10582\n",
            "0.04     10161\n",
            "0.07     10028\n",
            "         ...  \n",
            "0.68         2\n",
            "0.69         2\n",
            "0.87         1\n",
            "0.63         1\n",
            "0.61         1\n",
            "Name: same_srv_rate, Length: 99, dtype: int64\n",
            "\n",
            "feature: diff_srv_rate\n",
            "0.00    382021\n",
            "0.06     52812\n",
            "0.07     28798\n",
            "0.05     19218\n",
            "0.08      3254\n",
            "         ...  \n",
            "0.82         1\n",
            "0.86         1\n",
            "0.64         1\n",
            "0.83         1\n",
            "0.88         1\n",
            "Name: diff_srv_rate, Length: 78, dtype: int64\n",
            "\n",
            "feature: srv_diff_host_rate\n",
            "0.00    459377\n",
            "1.00      8099\n",
            "0.12      1508\n",
            "0.50      1418\n",
            "0.67      1410\n",
            "         ...  \n",
            "0.54         2\n",
            "0.46         2\n",
            "0.88         2\n",
            "0.70         1\n",
            "0.77         1\n",
            "Name: srv_diff_host_rate, Length: 64, dtype: int64\n",
            "\n",
            "feature: dst_host_count\n",
            "255    432829\n",
            "1        2884\n",
            "2        2023\n",
            "3        1434\n",
            "4        1317\n",
            "        ...  \n",
            "254        70\n",
            "226        70\n",
            "236        63\n",
            "246        61\n",
            "0           3\n",
            "Name: dst_host_count, Length: 256, dtype: int64\n",
            "\n",
            "feature: dst_host_srv_count\n",
            "255    337746\n",
            "1       11895\n",
            "2        7243\n",
            "3        5855\n",
            "11       5627\n",
            "        ...  \n",
            "199        66\n",
            "207        65\n",
            "206        62\n",
            "202        56\n",
            "0           3\n",
            "Name: dst_host_srv_count, Length: 256, dtype: int64\n",
            "\n",
            "feature: dst_host_same_srv_rate\n",
            "1.00    347828\n",
            "0.04     16092\n",
            "0.02     15880\n",
            "0.05     15414\n",
            "0.07     15165\n",
            "         ...  \n",
            "0.30       155\n",
            "0.21       151\n",
            "0.34       150\n",
            "0.41       148\n",
            "0.42       144\n",
            "Name: dst_host_same_srv_rate, Length: 101, dtype: int64\n",
            "\n",
            "feature: dst_host_diff_srv_rate\n",
            "0.00    347031\n",
            "0.07     45922\n",
            "0.06     28224\n",
            "0.05     18466\n",
            "0.08     14540\n",
            "         ...  \n",
            "0.97        11\n",
            "0.94        10\n",
            "0.93         8\n",
            "0.92         7\n",
            "0.99         6\n",
            "Name: dst_host_diff_srv_rate, Length: 101, dtype: int64\n",
            "\n",
            "feature: dst_host_same_src_port_rate\n",
            "1.00    288883\n",
            "0.00    142860\n",
            "0.01     21912\n",
            "0.02      7228\n",
            "0.03      4419\n",
            "         ...  \n",
            "0.78        34\n",
            "0.70        32\n",
            "0.72        28\n",
            "0.66        27\n",
            "0.68        27\n",
            "Name: dst_host_same_src_port_rate, Length: 101, dtype: int64\n",
            "\n",
            "feature: dst_host_srv_diff_host_rate\n",
            "0.00    441889\n",
            "0.02     11738\n",
            "0.01     10530\n",
            "0.04      6673\n",
            "0.03      6624\n",
            "         ...  \n",
            "0.80         1\n",
            "0.58         1\n",
            "0.75         1\n",
            "0.70         1\n",
            "0.47         1\n",
            "Name: dst_host_srv_diff_host_rate, Length: 65, dtype: int64\n",
            "\n",
            "feature: dst_host_serror_rate\n",
            "0.00    399810\n",
            "1.00     86759\n",
            "0.01      3670\n",
            "0.02       989\n",
            "0.03       425\n",
            "         ...  \n",
            "0.66         1\n",
            "0.74         1\n",
            "0.78         1\n",
            "0.86         1\n",
            "0.37         1\n",
            "Name: dst_host_serror_rate, Length: 100, dtype: int64\n",
            "\n",
            "feature: dst_host_srv_serror_rate\n",
            "0.00    400945\n",
            "1.00     86997\n",
            "0.01      4868\n",
            "0.02       675\n",
            "0.03       149\n",
            "         ...  \n",
            "0.87         1\n",
            "0.84         1\n",
            "0.55         1\n",
            "0.81         1\n",
            "0.53         1\n",
            "Name: dst_host_srv_serror_rate, Length: 72, dtype: int64\n",
            "\n",
            "feature: dst_host_rerror_rate\n",
            "0.00    458792\n",
            "1.00     26040\n",
            "0.01      1596\n",
            "0.02       932\n",
            "0.04       801\n",
            "         ...  \n",
            "0.63        19\n",
            "0.34        18\n",
            "0.46        15\n",
            "0.39        14\n",
            "0.79        13\n",
            "Name: dst_host_rerror_rate, Length: 101, dtype: int64\n",
            "\n",
            "feature: dst_host_srv_rerror_rate\n",
            "0.00    459805\n",
            "1.00     25695\n",
            "0.01      1851\n",
            "0.04       830\n",
            "0.02       783\n",
            "         ...  \n",
            "0.23         6\n",
            "0.32         5\n",
            "0.28         4\n",
            "0.26         4\n",
            "0.22         4\n",
            "Name: dst_host_srv_rerror_rate, Length: 101, dtype: int64\n",
            "\n",
            "feature: target\n",
            "18    280790\n",
            "9     107201\n",
            "11     97278\n",
            "0       2203\n",
            "17      1589\n",
            "5       1247\n",
            "15      1040\n",
            "21      1020\n",
            "20       979\n",
            "14       264\n",
            "10       231\n",
            "3         53\n",
            "1         30\n",
            "6         21\n",
            "22        20\n",
            "4         12\n",
            "16        10\n",
            "7          9\n",
            "2          8\n",
            "8          7\n",
            "13         4\n",
            "12         3\n",
            "19         2\n",
            "Name: target, dtype: int64\n",
            "\n"
          ]
        }
      ],
      "source": [
        "for i in df.columns:\n",
        "  print(f\"feature: {i}\")\n",
        "  print(df[i].value_counts())\n",
        "  print()"
      ]
    },
    {
      "cell_type": "code",
      "execution_count": 71,
      "metadata": {
        "id": "x-XwIAQqHhBA"
      },
      "outputs": [],
      "source": [
        "#df = drop_unnecessary_cols(df, ['num_outbound_cmds', 'is_host_login', 'is_guest_login', 'land','wrong_fragment', 'root_shell', 'logged_in'])"
      ]
    },
    {
      "cell_type": "markdown",
      "metadata": {
        "id": "d26TK-0bQ5R_"
      },
      "source": [
        "# Knn Model"
      ]
    },
    {
      "cell_type": "code",
      "execution_count": 72,
      "metadata": {
        "id": "velQAvqGQ2pk"
      },
      "outputs": [],
      "source": [
        "def KNN_model_train(df, clusters, sigma, iterations):\n",
        "  \n",
        "  rows = df.shape[0] #numper of samples ot cluser it\n",
        "  centroids = []\n",
        "  #print(df)\n",
        "  train = df.to_numpy()\n",
        "  #get random values to represents the initial centroids\n",
        "  for i in range(clusters):\n",
        "    centroids.append(train[random.randint(0, rows)])\n",
        "\n",
        "  \n",
        "  error = 100          # the error between old and new centroids \n",
        "  c = []              # save the cluster after each loop\n",
        "  l = 0               # number of iteration needd to finish the cluster\n",
        "\n",
        "\n",
        "  #iterate until the error between the old and new centroids < sigma\n",
        "  while(error > sigma and l < iterations):\n",
        "    c = [] #save the cluster of each point \n",
        "\n",
        "    #calculate the error between the points and each centriod\n",
        "    for i in range(rows):\n",
        "      err = []\n",
        "      for j in range(clusters):\n",
        "        err.append(euclidean(train[i], centroids[j]))\n",
        "  \n",
        "      c.append(np.argmin(err)) #add the right cluster to the list\n",
        "\n",
        "    df['cluster'] = c   # save the new cluster at the data\n",
        "    \n",
        "    new_centroids = df.groupby('cluster').mean().to_numpy() # calculate the new centroids \n",
        "    \n",
        "    #get the error bewteen the old and enw centroids\n",
        "    #print(centroids[0])\n",
        "\n",
        "    #print(new_centroids[0])\n",
        "    for i in range(len(new_centroids)):\n",
        "      temp = euclidean(centroids[i], new_centroids[i])\n",
        "      if(i != 0):\n",
        "        error = max(temp, error)\n",
        "      else: \n",
        "        error = temp\n",
        "\n",
        "      centroids[i] = new_centroids[i] #update centroids\n",
        "\n",
        "    #remove the old clusters to starn next iteration\n",
        "    df.drop(columns = ['cluster'], inplace = True) \n",
        "    \n",
        "    print(f\"l = {l}, Error = {error}\")\n",
        "    l+=1\n",
        "\n",
        "  #save the last version of clusters\n",
        "  df['cluster'] = c\n",
        "  #return the data clustered, and centroids to use them in test\n",
        "  return df, centroids"
      ]
    },
    {
      "cell_type": "code",
      "execution_count": 73,
      "metadata": {
        "id": "kP5dn8KA6rr9"
      },
      "outputs": [],
      "source": [
        "def KNN_model_test(df, centroids, n):\n",
        "  rows = df.shape[0]\n",
        "  c = []\n",
        "\n",
        "  for i in range(rows):\n",
        "    err = []\n",
        "    for j in range(n):\n",
        "      err.append(euclidean(df.iloc[i], centroids[j]))\n",
        "  \n",
        "    c.append(np.argmin(err))\n",
        "\n",
        "  df['cluster'] = c\n",
        "\n",
        "  return df\n"
      ]
    },
    {
      "cell_type": "markdown",
      "metadata": {
        "id": "C_OrryGp9iIq"
      },
      "source": [
        "# Metrices"
      ]
    },
    {
      "cell_type": "code",
      "execution_count": 74,
      "metadata": {
        "id": "hvgKh4KB9kUS"
      },
      "outputs": [],
      "source": [
        "def percision(df, c):\n",
        "  perc = 0\n",
        "  c_perc = []\n",
        "  n_t = df.shape[0]\n",
        "  \n",
        "  for i in range(c):\n",
        "    cluster = df[df['cluster'] == i]\n",
        "    n = cluster.shape[0]\n",
        "    if(n != 0):\n",
        "      max_k = max(cluster.value_counts())\n",
        "      prc = ((max_k / n)* (n/n_t))\n",
        "      perc += prc\n",
        "      c_perc.append(prc)\n",
        "    else:\n",
        "      c_perc.append(0) \n",
        "  \n",
        "  return c_perc, perc"
      ]
    },
    {
      "cell_type": "code",
      "execution_count": 75,
      "metadata": {
        "id": "StHDiFMG9kQG"
      },
      "outputs": [],
      "source": [
        "def recall(df, c):\n",
        "  rec = 0\n",
        "  c_rec = []\n",
        "  n_t = df.shape[0]\n",
        "  \n",
        "  for i in range(c):\n",
        "    cluster = df[df['cluster'] == i]\n",
        "    cluster_size = cluster.shape[0]\n",
        "    if(cluster_size != 0):\n",
        "      max_k = max(cluster['target'].value_counts())\n",
        "      max_label = cluster['target'].value_counts().idxmax()\n",
        "      total = df[df['target'] == max_label].shape[0]\n",
        "\n",
        "      recall = max_k / total\n",
        "      rec += recall * (cluster_size / n_t)\n",
        "      c_rec.append(recall)\n",
        "  \n",
        "    else:\n",
        "      c_rec.append(0)\n",
        "  return c_rec, rec"
      ]
    },
    {
      "cell_type": "code",
      "execution_count": 76,
      "metadata": {
        "id": "ZrugjIAq9kOi"
      },
      "outputs": [],
      "source": [
        "def F1_score(percision, recall, c):\n",
        "  f1 = 0\n",
        "  for i in range(c):\n",
        "    perc_i = percision[i]\n",
        "    rec_i = recall[i]\n",
        "    if(perc_i != 0 or rec_i != 0):\n",
        "      f = (2 * perc_i * rec_i) / (perc_i + rec_i)\n",
        "      f1 += f\n",
        "  \n",
        "  return f1/c"
      ]
    },
    {
      "cell_type": "code",
      "execution_count": 77,
      "metadata": {
        "id": "BfV8QS8D9kKW"
      },
      "outputs": [],
      "source": [
        "\n",
        "def Conditional_Entropy(df, c):\n",
        "  H_t_c = 0\n",
        "  n_t = df.shape[0]\n",
        "\n",
        "  for i in range(c):\n",
        "    cluster = df[df['cluster'] == i]\n",
        "    n_i = cluster.shape[0]\n",
        "    labels = cluster['target'].value_counts()\n",
        "    H_c_i = 0\n",
        "    for j in labels:\n",
        "      H_c_i -= (j/n_i)*log(j/n_i)\n",
        "    \n",
        "    H_t_c += (n_i/n_t) * H_c_i\n",
        "\n",
        "  return H_t_c"
      ]
    },
    {
      "cell_type": "markdown",
      "metadata": {
        "id": "06ao88sT90Fs"
      },
      "source": [
        "# Train & Test the model\n"
      ]
    },
    {
      "cell_type": "code",
      "execution_count": 95,
      "metadata": {
        "id": "6h_PclmI_-jR"
      },
      "outputs": [],
      "source": [
        "x_train = df.drop(columns = ['target'])\n",
        "y_train = df['target']\n",
        "x_test = test.drop(columns = ['target'])\n",
        "y_test = test['target']"
      ]
    },
    {
      "cell_type": "markdown",
      "metadata": {
        "id": "8HrLmqNR_x-_"
      },
      "source": [
        "## K = 7"
      ]
    },
    {
      "cell_type": "markdown",
      "metadata": {
        "id": "XPaHRl-Awyn9"
      },
      "source": [
        "### Train model"
      ]
    },
    {
      "cell_type": "code",
      "execution_count": 96,
      "metadata": {
        "colab": {
          "base_uri": "https://localhost:8080/"
        },
        "id": "smPGZWibSVlG",
        "outputId": "41fecda7-8fa0-4241-faea-3c1e599b6a19"
      },
      "outputs": [
        {
          "output_type": "stream",
          "name": "stdout",
          "text": [
            "l = 0, Error = 17928.619115823483\n",
            "l = 1, Error = 276627.1686323501\n",
            "l = 2, Error = 9074229.281863956\n",
            "l = 3, Error = 7248073.205862684\n",
            "l = 4, Error = 676770723.3015882\n",
            "l = 5, Error = 2348477.572780419\n",
            "l = 6, Error = 1772627.256114696\n",
            "l = 7, Error = 211267.32078933262\n",
            "l = 8, Error = 75800.56345399117\n",
            "l = 9, Error = 211593.0480849187\n",
            "l = 10, Error = 258439.99973408016\n",
            "l = 11, Error = 331243.19609501865\n",
            "l = 12, Error = 221039.77897126437\n",
            "l = 13, Error = 104554.65569453445\n",
            "l = 14, Error = 123337.00585108857\n",
            "l = 15, Error = 48523.18634653835\n",
            "l = 16, Error = 26045.765576200498\n",
            "l = 17, Error = 5079.340303527298\n",
            "l = 18, Error = 6613.9674647865395\n",
            "l = 19, Error = 9456.763608721822\n",
            "l = 20, Error = 26078.07956779603\n",
            "l = 21, Error = 29969.132404436794\n",
            "l = 22, Error = 49767.393404630144\n",
            "l = 23, Error = 75942.27618896686\n",
            "l = 24, Error = 62330.70489491762\n",
            "l = 25, Error = 42584.86867175459\n",
            "l = 26, Error = 31938.695551980767\n",
            "l = 27, Error = 28174.345290952147\n",
            "l = 28, Error = 2442.0129894690767\n",
            "l = 29, Error = 0.06635352609102066\n"
          ]
        }
      ],
      "source": [
        "clustered1, centroids1 = KNN_model_train(x_train, 7, 0.1, 40)"
      ]
    },
    {
      "cell_type": "code",
      "execution_count": 97,
      "metadata": {
        "id": "cNoSg-96aKHC"
      },
      "outputs": [],
      "source": [
        "clustered1['target'] = y_train\n",
        "train_result1 = clustered1[['target', 'cluster']]"
      ]
    },
    {
      "cell_type": "code",
      "execution_count": 98,
      "metadata": {
        "colab": {
          "base_uri": "https://localhost:8080/",
          "height": 424
        },
        "id": "mZM123WBieQ5",
        "outputId": "35a0423a-a39d-4cfa-8d32-a2dc43df27c9"
      },
      "outputs": [
        {
          "output_type": "execute_result",
          "data": {
            "text/plain": [
              "        target  cluster\n",
              "0           11        2\n",
              "1           11        2\n",
              "2           11        2\n",
              "3           11        2\n",
              "4           11        2\n",
              "...        ...      ...\n",
              "494016      11        2\n",
              "494017      11        2\n",
              "494018      11        2\n",
              "494019      11        2\n",
              "494020      11        2\n",
              "\n",
              "[494021 rows x 2 columns]"
            ],
            "text/html": [
              "\n",
              "  <div id=\"df-fc1d1389-2a40-4046-b2dc-9367fa4b018f\">\n",
              "    <div class=\"colab-df-container\">\n",
              "      <div>\n",
              "<style scoped>\n",
              "    .dataframe tbody tr th:only-of-type {\n",
              "        vertical-align: middle;\n",
              "    }\n",
              "\n",
              "    .dataframe tbody tr th {\n",
              "        vertical-align: top;\n",
              "    }\n",
              "\n",
              "    .dataframe thead th {\n",
              "        text-align: right;\n",
              "    }\n",
              "</style>\n",
              "<table border=\"1\" class=\"dataframe\">\n",
              "  <thead>\n",
              "    <tr style=\"text-align: right;\">\n",
              "      <th></th>\n",
              "      <th>target</th>\n",
              "      <th>cluster</th>\n",
              "    </tr>\n",
              "  </thead>\n",
              "  <tbody>\n",
              "    <tr>\n",
              "      <th>0</th>\n",
              "      <td>11</td>\n",
              "      <td>2</td>\n",
              "    </tr>\n",
              "    <tr>\n",
              "      <th>1</th>\n",
              "      <td>11</td>\n",
              "      <td>2</td>\n",
              "    </tr>\n",
              "    <tr>\n",
              "      <th>2</th>\n",
              "      <td>11</td>\n",
              "      <td>2</td>\n",
              "    </tr>\n",
              "    <tr>\n",
              "      <th>3</th>\n",
              "      <td>11</td>\n",
              "      <td>2</td>\n",
              "    </tr>\n",
              "    <tr>\n",
              "      <th>4</th>\n",
              "      <td>11</td>\n",
              "      <td>2</td>\n",
              "    </tr>\n",
              "    <tr>\n",
              "      <th>...</th>\n",
              "      <td>...</td>\n",
              "      <td>...</td>\n",
              "    </tr>\n",
              "    <tr>\n",
              "      <th>494016</th>\n",
              "      <td>11</td>\n",
              "      <td>2</td>\n",
              "    </tr>\n",
              "    <tr>\n",
              "      <th>494017</th>\n",
              "      <td>11</td>\n",
              "      <td>2</td>\n",
              "    </tr>\n",
              "    <tr>\n",
              "      <th>494018</th>\n",
              "      <td>11</td>\n",
              "      <td>2</td>\n",
              "    </tr>\n",
              "    <tr>\n",
              "      <th>494019</th>\n",
              "      <td>11</td>\n",
              "      <td>2</td>\n",
              "    </tr>\n",
              "    <tr>\n",
              "      <th>494020</th>\n",
              "      <td>11</td>\n",
              "      <td>2</td>\n",
              "    </tr>\n",
              "  </tbody>\n",
              "</table>\n",
              "<p>494021 rows × 2 columns</p>\n",
              "</div>\n",
              "      <button class=\"colab-df-convert\" onclick=\"convertToInteractive('df-fc1d1389-2a40-4046-b2dc-9367fa4b018f')\"\n",
              "              title=\"Convert this dataframe to an interactive table.\"\n",
              "              style=\"display:none;\">\n",
              "        \n",
              "  <svg xmlns=\"http://www.w3.org/2000/svg\" height=\"24px\"viewBox=\"0 0 24 24\"\n",
              "       width=\"24px\">\n",
              "    <path d=\"M0 0h24v24H0V0z\" fill=\"none\"/>\n",
              "    <path d=\"M18.56 5.44l.94 2.06.94-2.06 2.06-.94-2.06-.94-.94-2.06-.94 2.06-2.06.94zm-11 1L8.5 8.5l.94-2.06 2.06-.94-2.06-.94L8.5 2.5l-.94 2.06-2.06.94zm10 10l.94 2.06.94-2.06 2.06-.94-2.06-.94-.94-2.06-.94 2.06-2.06.94z\"/><path d=\"M17.41 7.96l-1.37-1.37c-.4-.4-.92-.59-1.43-.59-.52 0-1.04.2-1.43.59L10.3 9.45l-7.72 7.72c-.78.78-.78 2.05 0 2.83L4 21.41c.39.39.9.59 1.41.59.51 0 1.02-.2 1.41-.59l7.78-7.78 2.81-2.81c.8-.78.8-2.07 0-2.86zM5.41 20L4 18.59l7.72-7.72 1.47 1.35L5.41 20z\"/>\n",
              "  </svg>\n",
              "      </button>\n",
              "      \n",
              "  <style>\n",
              "    .colab-df-container {\n",
              "      display:flex;\n",
              "      flex-wrap:wrap;\n",
              "      gap: 12px;\n",
              "    }\n",
              "\n",
              "    .colab-df-convert {\n",
              "      background-color: #E8F0FE;\n",
              "      border: none;\n",
              "      border-radius: 50%;\n",
              "      cursor: pointer;\n",
              "      display: none;\n",
              "      fill: #1967D2;\n",
              "      height: 32px;\n",
              "      padding: 0 0 0 0;\n",
              "      width: 32px;\n",
              "    }\n",
              "\n",
              "    .colab-df-convert:hover {\n",
              "      background-color: #E2EBFA;\n",
              "      box-shadow: 0px 1px 2px rgba(60, 64, 67, 0.3), 0px 1px 3px 1px rgba(60, 64, 67, 0.15);\n",
              "      fill: #174EA6;\n",
              "    }\n",
              "\n",
              "    [theme=dark] .colab-df-convert {\n",
              "      background-color: #3B4455;\n",
              "      fill: #D2E3FC;\n",
              "    }\n",
              "\n",
              "    [theme=dark] .colab-df-convert:hover {\n",
              "      background-color: #434B5C;\n",
              "      box-shadow: 0px 1px 3px 1px rgba(0, 0, 0, 0.15);\n",
              "      filter: drop-shadow(0px 1px 2px rgba(0, 0, 0, 0.3));\n",
              "      fill: #FFFFFF;\n",
              "    }\n",
              "  </style>\n",
              "\n",
              "      <script>\n",
              "        const buttonEl =\n",
              "          document.querySelector('#df-fc1d1389-2a40-4046-b2dc-9367fa4b018f button.colab-df-convert');\n",
              "        buttonEl.style.display =\n",
              "          google.colab.kernel.accessAllowed ? 'block' : 'none';\n",
              "\n",
              "        async function convertToInteractive(key) {\n",
              "          const element = document.querySelector('#df-fc1d1389-2a40-4046-b2dc-9367fa4b018f');\n",
              "          const dataTable =\n",
              "            await google.colab.kernel.invokeFunction('convertToInteractive',\n",
              "                                                     [key], {});\n",
              "          if (!dataTable) return;\n",
              "\n",
              "          const docLinkHtml = 'Like what you see? Visit the ' +\n",
              "            '<a target=\"_blank\" href=https://colab.research.google.com/notebooks/data_table.ipynb>data table notebook</a>'\n",
              "            + ' to learn more about interactive tables.';\n",
              "          element.innerHTML = '';\n",
              "          dataTable['output_type'] = 'display_data';\n",
              "          await google.colab.output.renderOutput(dataTable, element);\n",
              "          const docLink = document.createElement('div');\n",
              "          docLink.innerHTML = docLinkHtml;\n",
              "          element.appendChild(docLink);\n",
              "        }\n",
              "      </script>\n",
              "    </div>\n",
              "  </div>\n",
              "  "
            ]
          },
          "metadata": {},
          "execution_count": 98
        }
      ],
      "source": [
        "train_result1"
      ]
    },
    {
      "cell_type": "code",
      "execution_count": 99,
      "metadata": {
        "id": "cPlPSEZoihYc"
      },
      "outputs": [],
      "source": [
        "c_perc1, perc1 = percision(train_result1, 7)\n"
      ]
    },
    {
      "cell_type": "code",
      "execution_count": 100,
      "metadata": {
        "colab": {
          "base_uri": "https://localhost:8080/"
        },
        "id": "Avl748AgoLT-",
        "outputId": "2b03a181-8133-42e7-a1e2-8ac493c220a3"
      },
      "outputs": [
        {
          "output_type": "stream",
          "name": "stdout",
          "text": [
            "cluster0 percision: 4.2508314423880765e-05\n",
            "cluster1 percision: 3.0363081731343407e-05\n",
            "cluster2 percision: 0.2169968483121163\n",
            "cluster3 percision: 0.568376647956261\n",
            "cluster4 percision: 2.024205448756227e-06\n",
            "cluster5 percision: 0.00015586381955422948\n",
            "cluster6 percision: 0.00012145232692537362\n",
            "the total percision is: 0.7857257080164608\n"
          ]
        }
      ],
      "source": [
        "for i in range(7):\n",
        "  print(f'cluster{i} percision: {c_perc1[i]}')\n",
        "\n",
        "print(f'the total percision is: {perc1}')"
      ]
    },
    {
      "cell_type": "code",
      "execution_count": 101,
      "metadata": {
        "id": "EuIJhPLwigM-"
      },
      "outputs": [],
      "source": [
        "c_rec1, rec1 = recall(train_result1, 7)"
      ]
    },
    {
      "cell_type": "code",
      "execution_count": 102,
      "metadata": {
        "colab": {
          "base_uri": "https://localhost:8080/"
        },
        "id": "dQH4YdxJjtrj",
        "outputId": "3022adc5-e528-4f0e-cafc-bdc6543d6e59"
      },
      "outputs": [
        {
          "output_type": "stream",
          "name": "stdout",
          "text": [
            "cluster0 recall: 0.00021587614876950596\n",
            "cluster1 recall: 0.75\n",
            "cluster2 recall: 1.0\n",
            "cluster3 recall: 1.0\n",
            "cluster4 recall: 0.0009615384615384616\n",
            "cluster5 recall: 0.0007915458788215218\n",
            "cluster6 recall: 0.058823529411764705\n",
            "the total recall is: 0.9996263166219571\n"
          ]
        }
      ],
      "source": [
        "for i in range(7):\n",
        "  print(f'cluster{i} recall: {c_rec1[i]}')\n",
        "\n",
        "print(f'the total recall is: {rec1}')"
      ]
    },
    {
      "cell_type": "code",
      "execution_count": 103,
      "metadata": {
        "colab": {
          "base_uri": "https://localhost:8080/"
        },
        "id": "IgllOp1TnmRZ",
        "outputId": "fe13c803-27c4-4eb4-b759-9b61cd607594"
      },
      "outputs": [
        {
          "output_type": "execute_result",
          "data": {
            "text/plain": [
              "0.1545778747346366"
            ]
          },
          "metadata": {},
          "execution_count": 103
        }
      ],
      "source": [
        "F1_score(c_perc1, c_rec1, 7)"
      ]
    },
    {
      "cell_type": "code",
      "execution_count": 104,
      "metadata": {
        "colab": {
          "base_uri": "https://localhost:8080/"
        },
        "id": "pZoMXOyjqAkU",
        "outputId": "33adfe99-8d98-4046-f8ae-b1660c7c758e"
      },
      "outputs": [
        {
          "output_type": "execute_result",
          "data": {
            "text/plain": [
              "0.47966812431270545"
            ]
          },
          "metadata": {},
          "execution_count": 104
        }
      ],
      "source": [
        "Conditional_Entropy(train_result1, 7)"
      ]
    },
    {
      "cell_type": "markdown",
      "metadata": {
        "id": "SArl7z6Lw37w"
      },
      "source": [
        "### test model"
      ]
    },
    {
      "cell_type": "code",
      "execution_count": 105,
      "metadata": {
        "id": "qEWa0ko1vwcR"
      },
      "outputs": [],
      "source": [
        "test_clustered1= KNN_model_test(x_test, centroids1, 7)"
      ]
    },
    {
      "cell_type": "code",
      "execution_count": 106,
      "metadata": {
        "id": "NrZjLKf0vwcU"
      },
      "outputs": [],
      "source": [
        "test_clustered1['target'] = y_test\n",
        "test_result1 = test_clustered1[['target', 'cluster']]"
      ]
    },
    {
      "cell_type": "code",
      "source": [
        "values = np.sort(test_result1['cluster'].unique())\n",
        "\n",
        "for i in values: \n",
        "  print(f\"cluster number {i} is {test_result1[test_result1['cluster'] == i].value_counts().idxmax()[0]}\")"
      ],
      "metadata": {
        "id": "6xruqe0KmgID",
        "outputId": "5105ddeb-562d-4cee-86d3-8a13997aa0f8",
        "colab": {
          "base_uri": "https://localhost:8080/"
        }
      },
      "execution_count": 177,
      "outputs": [
        {
          "output_type": "stream",
          "name": "stdout",
          "text": [
            "cluster number 0 is 16\n",
            "cluster number 1 is 16\n",
            "cluster number 2 is 14\n",
            "cluster number 3 is 27\n",
            "cluster number 5 is 16\n",
            "cluster number 6 is 16\n"
          ]
        }
      ]
    },
    {
      "cell_type": "code",
      "execution_count": 108,
      "metadata": {
        "id": "qDOIx5_qvwcZ"
      },
      "outputs": [],
      "source": [
        "c_perc1, perc1 = percision(test_result1, 7)\n"
      ]
    },
    {
      "cell_type": "code",
      "execution_count": 109,
      "metadata": {
        "colab": {
          "base_uri": "https://localhost:8080/"
        },
        "id": "G80wg2M4vwcb",
        "outputId": "7972f7f4-2f32-40ea-c72c-e0c100cd6829"
      },
      "outputs": [
        {
          "output_type": "stream",
          "name": "stdout",
          "text": [
            "cluster0 percision: 3.858185945271633e-05\n",
            "cluster1 percision: 3.215154954393027e-06\n",
            "cluster2 percision: 0.18648220250974995\n",
            "cluster3 percision: 0.5275779916213063\n",
            "cluster4 percision: 0\n",
            "cluster5 percision: 0.00012539104322132805\n",
            "cluster6 percision: 1.2860619817572108e-05\n",
            "the total percision is: 0.7142402428085022\n"
          ]
        }
      ],
      "source": [
        "for i in range(7):\n",
        "  print(f'cluster{i} percision: {c_perc1[i]}')\n",
        "\n",
        "print(f'the total percision is: {perc1}')"
      ]
    },
    {
      "cell_type": "code",
      "execution_count": 110,
      "metadata": {
        "id": "eLCNpDFpvwcc"
      },
      "outputs": [],
      "source": [
        "c_rec1, rec1 = recall(test_result1, 7)"
      ]
    },
    {
      "cell_type": "code",
      "execution_count": 111,
      "metadata": {
        "colab": {
          "base_uri": "https://localhost:8080/"
        },
        "id": "aEBGvSBjvwcd",
        "outputId": "0d36f390-b63a-430c-99cd-03e87fd5d016"
      },
      "outputs": [
        {
          "output_type": "stream",
          "name": "stdout",
          "text": [
            "cluster0 recall: 0.00019804921522998466\n",
            "cluster1 recall: 1.6504101269165386e-05\n",
            "cluster2 recall: 1.0\n",
            "cluster3 recall: 1.0\n",
            "cluster4 recall: 0\n",
            "cluster5 recall: 0.0006436599494974502\n",
            "cluster6 recall: 6.601640507666154e-05\n",
            "the total recall is: 0.9998039714330621\n"
          ]
        }
      ],
      "source": [
        "for i in range(7):\n",
        "  print(f'cluster{i} recall: {c_rec1[i]}')\n",
        "\n",
        "print(f'the total recall is: {rec1}')"
      ]
    },
    {
      "cell_type": "code",
      "execution_count": 112,
      "metadata": {
        "id": "CBoDyuG1vwce",
        "colab": {
          "base_uri": "https://localhost:8080/"
        },
        "outputId": "589f4fa9-39a7-4e2f-ddfe-801ac96fe257"
      },
      "outputs": [
        {
          "output_type": "execute_result",
          "data": {
            "text/plain": [
              "0.14362628222553706"
            ]
          },
          "metadata": {},
          "execution_count": 112
        }
      ],
      "source": [
        "F1_score(c_perc1, c_rec1, 7)"
      ]
    },
    {
      "cell_type": "code",
      "execution_count": 113,
      "metadata": {
        "id": "wNdc7GyRvwcf",
        "colab": {
          "base_uri": "https://localhost:8080/"
        },
        "outputId": "fe7b648f-4b13-4473-fcaf-104a58ee0e24"
      },
      "outputs": [
        {
          "output_type": "execute_result",
          "data": {
            "text/plain": [
              "0.7541218871700119"
            ]
          },
          "metadata": {},
          "execution_count": 113
        }
      ],
      "source": [
        "Conditional_Entropy(test_result1, 7)"
      ]
    },
    {
      "cell_type": "markdown",
      "metadata": {
        "id": "WaJdFia__1so"
      },
      "source": [
        "## K = 15"
      ]
    },
    {
      "cell_type": "code",
      "source": [
        "x_train = df.drop(columns = ['target'])\n",
        "y_train = df['target']\n",
        "x_test = test.drop(columns = ['target'])\n",
        "y_test = test['target']"
      ],
      "metadata": {
        "id": "0orL021xdGQQ"
      },
      "execution_count": 114,
      "outputs": []
    },
    {
      "cell_type": "markdown",
      "metadata": {
        "id": "38nBblT-xHGc"
      },
      "source": [
        "### Train model"
      ]
    },
    {
      "cell_type": "code",
      "execution_count": 115,
      "metadata": {
        "id": "whJ4itr4xHGg",
        "colab": {
          "base_uri": "https://localhost:8080/"
        },
        "outputId": "12b4a2ae-6504-41ce-de5a-10ca4988fbc6"
      },
      "outputs": [
        {
          "output_type": "stream",
          "name": "stdout",
          "text": [
            "l = 0, Error = 65838.01171661475\n",
            "l = 1, Error = 422967.9386367525\n",
            "l = 2, Error = 10493211.56313255\n",
            "l = 3, Error = 682392653.2297082\n",
            "l = 4, Error = 2898571.0504853628\n",
            "l = 5, Error = 1363152.4945983796\n",
            "l = 6, Error = 951234.8639524203\n",
            "l = 7, Error = 797284.929740488\n",
            "l = 8, Error = 211267.32078933262\n",
            "l = 9, Error = 103300.18094222891\n",
            "l = 10, Error = 229304.53326072232\n",
            "l = 11, Error = 249135.51847817618\n",
            "l = 12, Error = 318320.07029014005\n",
            "l = 13, Error = 221556.3798228289\n",
            "l = 14, Error = 90144.39345401693\n",
            "l = 15, Error = 104622.19560262292\n",
            "l = 16, Error = 74568.95118326641\n",
            "l = 17, Error = 54522.23295823478\n",
            "l = 18, Error = 93948.20661657247\n",
            "l = 19, Error = 84956.54764777303\n",
            "l = 20, Error = 47500.63753669052\n",
            "l = 21, Error = 27216.603564589055\n",
            "l = 22, Error = 28174.345290952147\n",
            "l = 23, Error = 29574.986837442346\n",
            "l = 24, Error = 5973.58534213041\n",
            "l = 25, Error = 30750.18344035303\n",
            "l = 26, Error = 9870.67205652651\n",
            "l = 27, Error = 6818.220593389801\n",
            "l = 28, Error = 3433.4387634801183\n",
            "l = 29, Error = 7138.95035554825\n"
          ]
        }
      ],
      "source": [
        "clustered2, centroids2 = KNN_model_train(x_train, 15, 0.1, 30)"
      ]
    },
    {
      "cell_type": "code",
      "execution_count": 116,
      "metadata": {
        "id": "7k1DVT4rxHGj"
      },
      "outputs": [],
      "source": [
        "clustered2['target'] = y_train\n",
        "train_result2 = clustered2[['target', 'cluster']]"
      ]
    },
    {
      "cell_type": "code",
      "execution_count": 117,
      "metadata": {
        "id": "TRRpX6q3xHGm",
        "colab": {
          "base_uri": "https://localhost:8080/",
          "height": 424
        },
        "outputId": "bd611819-316e-4932-8a52-79e6af8509a6"
      },
      "outputs": [
        {
          "output_type": "execute_result",
          "data": {
            "text/plain": [
              "        target  cluster\n",
              "0           11        7\n",
              "1           11        7\n",
              "2           11        7\n",
              "3           11        7\n",
              "4           11        7\n",
              "...        ...      ...\n",
              "494016      11        7\n",
              "494017      11        7\n",
              "494018      11        7\n",
              "494019      11        7\n",
              "494020      11        7\n",
              "\n",
              "[494021 rows x 2 columns]"
            ],
            "text/html": [
              "\n",
              "  <div id=\"df-37dc010d-6eb2-45cf-970b-0415418f0c1f\">\n",
              "    <div class=\"colab-df-container\">\n",
              "      <div>\n",
              "<style scoped>\n",
              "    .dataframe tbody tr th:only-of-type {\n",
              "        vertical-align: middle;\n",
              "    }\n",
              "\n",
              "    .dataframe tbody tr th {\n",
              "        vertical-align: top;\n",
              "    }\n",
              "\n",
              "    .dataframe thead th {\n",
              "        text-align: right;\n",
              "    }\n",
              "</style>\n",
              "<table border=\"1\" class=\"dataframe\">\n",
              "  <thead>\n",
              "    <tr style=\"text-align: right;\">\n",
              "      <th></th>\n",
              "      <th>target</th>\n",
              "      <th>cluster</th>\n",
              "    </tr>\n",
              "  </thead>\n",
              "  <tbody>\n",
              "    <tr>\n",
              "      <th>0</th>\n",
              "      <td>11</td>\n",
              "      <td>7</td>\n",
              "    </tr>\n",
              "    <tr>\n",
              "      <th>1</th>\n",
              "      <td>11</td>\n",
              "      <td>7</td>\n",
              "    </tr>\n",
              "    <tr>\n",
              "      <th>2</th>\n",
              "      <td>11</td>\n",
              "      <td>7</td>\n",
              "    </tr>\n",
              "    <tr>\n",
              "      <th>3</th>\n",
              "      <td>11</td>\n",
              "      <td>7</td>\n",
              "    </tr>\n",
              "    <tr>\n",
              "      <th>4</th>\n",
              "      <td>11</td>\n",
              "      <td>7</td>\n",
              "    </tr>\n",
              "    <tr>\n",
              "      <th>...</th>\n",
              "      <td>...</td>\n",
              "      <td>...</td>\n",
              "    </tr>\n",
              "    <tr>\n",
              "      <th>494016</th>\n",
              "      <td>11</td>\n",
              "      <td>7</td>\n",
              "    </tr>\n",
              "    <tr>\n",
              "      <th>494017</th>\n",
              "      <td>11</td>\n",
              "      <td>7</td>\n",
              "    </tr>\n",
              "    <tr>\n",
              "      <th>494018</th>\n",
              "      <td>11</td>\n",
              "      <td>7</td>\n",
              "    </tr>\n",
              "    <tr>\n",
              "      <th>494019</th>\n",
              "      <td>11</td>\n",
              "      <td>7</td>\n",
              "    </tr>\n",
              "    <tr>\n",
              "      <th>494020</th>\n",
              "      <td>11</td>\n",
              "      <td>7</td>\n",
              "    </tr>\n",
              "  </tbody>\n",
              "</table>\n",
              "<p>494021 rows × 2 columns</p>\n",
              "</div>\n",
              "      <button class=\"colab-df-convert\" onclick=\"convertToInteractive('df-37dc010d-6eb2-45cf-970b-0415418f0c1f')\"\n",
              "              title=\"Convert this dataframe to an interactive table.\"\n",
              "              style=\"display:none;\">\n",
              "        \n",
              "  <svg xmlns=\"http://www.w3.org/2000/svg\" height=\"24px\"viewBox=\"0 0 24 24\"\n",
              "       width=\"24px\">\n",
              "    <path d=\"M0 0h24v24H0V0z\" fill=\"none\"/>\n",
              "    <path d=\"M18.56 5.44l.94 2.06.94-2.06 2.06-.94-2.06-.94-.94-2.06-.94 2.06-2.06.94zm-11 1L8.5 8.5l.94-2.06 2.06-.94-2.06-.94L8.5 2.5l-.94 2.06-2.06.94zm10 10l.94 2.06.94-2.06 2.06-.94-2.06-.94-.94-2.06-.94 2.06-2.06.94z\"/><path d=\"M17.41 7.96l-1.37-1.37c-.4-.4-.92-.59-1.43-.59-.52 0-1.04.2-1.43.59L10.3 9.45l-7.72 7.72c-.78.78-.78 2.05 0 2.83L4 21.41c.39.39.9.59 1.41.59.51 0 1.02-.2 1.41-.59l7.78-7.78 2.81-2.81c.8-.78.8-2.07 0-2.86zM5.41 20L4 18.59l7.72-7.72 1.47 1.35L5.41 20z\"/>\n",
              "  </svg>\n",
              "      </button>\n",
              "      \n",
              "  <style>\n",
              "    .colab-df-container {\n",
              "      display:flex;\n",
              "      flex-wrap:wrap;\n",
              "      gap: 12px;\n",
              "    }\n",
              "\n",
              "    .colab-df-convert {\n",
              "      background-color: #E8F0FE;\n",
              "      border: none;\n",
              "      border-radius: 50%;\n",
              "      cursor: pointer;\n",
              "      display: none;\n",
              "      fill: #1967D2;\n",
              "      height: 32px;\n",
              "      padding: 0 0 0 0;\n",
              "      width: 32px;\n",
              "    }\n",
              "\n",
              "    .colab-df-convert:hover {\n",
              "      background-color: #E2EBFA;\n",
              "      box-shadow: 0px 1px 2px rgba(60, 64, 67, 0.3), 0px 1px 3px 1px rgba(60, 64, 67, 0.15);\n",
              "      fill: #174EA6;\n",
              "    }\n",
              "\n",
              "    [theme=dark] .colab-df-convert {\n",
              "      background-color: #3B4455;\n",
              "      fill: #D2E3FC;\n",
              "    }\n",
              "\n",
              "    [theme=dark] .colab-df-convert:hover {\n",
              "      background-color: #434B5C;\n",
              "      box-shadow: 0px 1px 3px 1px rgba(0, 0, 0, 0.15);\n",
              "      filter: drop-shadow(0px 1px 2px rgba(0, 0, 0, 0.3));\n",
              "      fill: #FFFFFF;\n",
              "    }\n",
              "  </style>\n",
              "\n",
              "      <script>\n",
              "        const buttonEl =\n",
              "          document.querySelector('#df-37dc010d-6eb2-45cf-970b-0415418f0c1f button.colab-df-convert');\n",
              "        buttonEl.style.display =\n",
              "          google.colab.kernel.accessAllowed ? 'block' : 'none';\n",
              "\n",
              "        async function convertToInteractive(key) {\n",
              "          const element = document.querySelector('#df-37dc010d-6eb2-45cf-970b-0415418f0c1f');\n",
              "          const dataTable =\n",
              "            await google.colab.kernel.invokeFunction('convertToInteractive',\n",
              "                                                     [key], {});\n",
              "          if (!dataTable) return;\n",
              "\n",
              "          const docLinkHtml = 'Like what you see? Visit the ' +\n",
              "            '<a target=\"_blank\" href=https://colab.research.google.com/notebooks/data_table.ipynb>data table notebook</a>'\n",
              "            + ' to learn more about interactive tables.';\n",
              "          element.innerHTML = '';\n",
              "          dataTable['output_type'] = 'display_data';\n",
              "          await google.colab.output.renderOutput(dataTable, element);\n",
              "          const docLink = document.createElement('div');\n",
              "          docLink.innerHTML = docLinkHtml;\n",
              "          element.appendChild(docLink);\n",
              "        }\n",
              "      </script>\n",
              "    </div>\n",
              "  </div>\n",
              "  "
            ]
          },
          "metadata": {},
          "execution_count": 117
        }
      ],
      "source": [
        "train_result2"
      ]
    },
    {
      "cell_type": "code",
      "execution_count": 118,
      "metadata": {
        "id": "dAsgsF4pxHGo"
      },
      "outputs": [],
      "source": [
        "c_perc2, perc2 = percision(train_result2, 15)\n"
      ]
    },
    {
      "cell_type": "code",
      "execution_count": 119,
      "metadata": {
        "id": "bFBh5diqxHGp",
        "colab": {
          "base_uri": "https://localhost:8080/"
        },
        "outputId": "2f600fc4-da14-48d7-e5eb-62c8acda0f52"
      },
      "outputs": [
        {
          "output_type": "stream",
          "name": "stdout",
          "text": [
            "cluster0 percision: 2.024205448756227e-06\n",
            "cluster1 percision: 0.0012023780365611988\n",
            "cluster2 percision: 0.00012145232692537362\n",
            "cluster3 percision: 0.10681124891451982\n",
            "cluster4 percision: 0.00011335550513034871\n",
            "cluster5 percision: 0.00165782426253135\n",
            "cluster6 percision: 0.0009655459990567202\n",
            "cluster7 percision: 0.2169968483121163\n",
            "cluster8 percision: 3.0363081731343407e-05\n",
            "cluster9 percision: 0.006803354513269679\n",
            "cluster10 percision: 0.002050520119590058\n",
            "cluster11 percision: 0.004416816289186087\n",
            "cluster12 percision: 0.018806892824394104\n",
            "cluster13 percision: 3.845990352636831e-05\n",
            "cluster14 percision: 0.4615532538090486\n",
            "the total percision is: 0.8215703381030361\n"
          ]
        }
      ],
      "source": [
        "for i in range(15):\n",
        "  print(f'cluster{i} percision: {c_perc2[i]}')\n",
        "\n",
        "print(f'the total percision is: {perc2}')"
      ]
    },
    {
      "cell_type": "code",
      "execution_count": 120,
      "metadata": {
        "id": "teszYMQxxHGr"
      },
      "outputs": [],
      "source": [
        "c_rec2, rec2 = recall(train_result2, 15)"
      ]
    },
    {
      "cell_type": "code",
      "execution_count": 121,
      "metadata": {
        "id": "T_bGsl1oxHGt",
        "colab": {
          "base_uri": "https://localhost:8080/"
        },
        "outputId": "ec6ef768-571e-4c7f-a235-18087a2bc625"
      },
      "outputs": [
        {
          "output_type": "stream",
          "name": "stdout",
          "text": [
            "cluster0 recall: 0.0009615384615384616\n",
            "cluster1 recall: 0.0061062110651945965\n",
            "cluster2 recall: 0.058823529411764705\n",
            "cluster3 recall: 0.18792335909398483\n",
            "cluster4 recall: 0.0005756697300520159\n",
            "cluster5 recall: 0.008419169802010733\n",
            "cluster6 recall: 0.004903472522050207\n",
            "cluster7 recall: 1.0\n",
            "cluster8 recall: 0.75\n",
            "cluster9 recall: 0.03455046361972902\n",
            "cluster10 recall: 0.010413454223976644\n",
            "cluster11 recall: 0.9904675442578302\n",
            "cluster12 recall: 0.09550977610559427\n",
            "cluster13 recall: 0.00019531651555336252\n",
            "cluster14 recall: 0.8120552726236689\n",
            "the total recall is: 0.7928001900515536\n"
          ]
        }
      ],
      "source": [
        "for i in range(15):\n",
        "  print(f'cluster{i} recall: {c_rec2[i]}')\n",
        "\n",
        "print(f'the total recall is: {rec2}')"
      ]
    },
    {
      "cell_type": "code",
      "execution_count": 122,
      "metadata": {
        "id": "-Cbbhi0VxHGu",
        "colab": {
          "base_uri": "https://localhost:8080/"
        },
        "outputId": "639ab162-7d53-4183-a4c6-24c1e901ddee"
      },
      "outputs": [
        {
          "output_type": "execute_result",
          "data": {
            "text/plain": [
              "0.07622394879576687"
            ]
          },
          "metadata": {},
          "execution_count": 122
        }
      ],
      "source": [
        "F1_score(c_perc2, c_rec2, 15)"
      ]
    },
    {
      "cell_type": "code",
      "execution_count": 123,
      "metadata": {
        "id": "UYhZT6PyxHGw",
        "colab": {
          "base_uri": "https://localhost:8080/"
        },
        "outputId": "060bba32-4b8c-426c-b51b-1471a566356f"
      },
      "outputs": [
        {
          "output_type": "execute_result",
          "data": {
            "text/plain": [
              "0.4036096116383191"
            ]
          },
          "metadata": {},
          "execution_count": 123
        }
      ],
      "source": [
        "Conditional_Entropy(train_result2, 15)"
      ]
    },
    {
      "cell_type": "markdown",
      "metadata": {
        "id": "h2QYeZOqxHGx"
      },
      "source": [
        "### test model"
      ]
    },
    {
      "cell_type": "code",
      "execution_count": 124,
      "metadata": {
        "id": "th8A2KaHxHGy"
      },
      "outputs": [],
      "source": [
        "test_clustered2= KNN_model_test(x_test, centroids2, 15)"
      ]
    },
    {
      "cell_type": "code",
      "execution_count": 125,
      "metadata": {
        "id": "Dzci0_mWxHGz"
      },
      "outputs": [],
      "source": [
        "test_clustered2['target'] = y_test\n",
        "test_result2 = test_clustered2[['target', 'cluster']]"
      ]
    },
    {
      "cell_type": "code",
      "execution_count": 176,
      "metadata": {
        "id": "pD9ZYYoSxHG0",
        "colab": {
          "base_uri": "https://localhost:8080/"
        },
        "outputId": "2c0e345f-bdc9-463d-cbe1-f1d3cab1ab2e"
      },
      "outputs": [
        {
          "output_type": "stream",
          "name": "stdout",
          "text": [
            "cluster number 1 is 16\n",
            "cluster number 2 is 16\n",
            "cluster number 3 is 27\n",
            "cluster number 4 is 16\n",
            "cluster number 5 is 16\n",
            "cluster number 6 is 16\n",
            "cluster number 7 is 14\n",
            "cluster number 8 is 16\n",
            "cluster number 9 is 21\n",
            "cluster number 10 is 16\n",
            "cluster number 11 is 1\n",
            "cluster number 12 is 16\n",
            "cluster number 13 is 16\n",
            "cluster number 14 is 27\n"
          ]
        }
      ],
      "source": [
        "values = np.sort(test_result2['cluster'].unique())\n",
        "\n",
        "for i in values: \n",
        "  print(f\"cluster number {i} is {test_result2[test_result2['cluster'] == i].value_counts().idxmax()[0]}\")"
      ]
    },
    {
      "cell_type": "code",
      "execution_count": 127,
      "metadata": {
        "id": "u5rBVlNoxHG0"
      },
      "outputs": [],
      "source": [
        "c_perc2, perc2 = percision(test_result2, 15)\n"
      ]
    },
    {
      "cell_type": "code",
      "execution_count": 128,
      "metadata": {
        "id": "fn1S3_g8xHG1",
        "colab": {
          "base_uri": "https://localhost:8080/"
        },
        "outputId": "29b02ee1-2b0b-4581-d136-7d4ce14fbcdd"
      },
      "outputs": [
        {
          "output_type": "stream",
          "name": "stdout",
          "text": [
            "cluster0 percision: 0\n",
            "cluster1 percision: 0.000704118935012073\n",
            "cluster2 percision: 1.2860619817572108e-05\n",
            "cluster3 percision: 0.1763255280088224\n",
            "cluster4 percision: 8.680918376861173e-05\n",
            "cluster5 percision: 0.0016107926321509065\n",
            "cluster6 percision: 3.858185945271633e-05\n",
            "cluster7 percision: 0.18648220250974998\n",
            "cluster8 percision: 3.215154954393027e-06\n",
            "cluster9 percision: 0.0016300835618772646\n",
            "cluster10 percision: 0.0012796316718484248\n",
            "cluster11 percision: 0.00346272188588129\n",
            "cluster12 percision: 0.020959595147688144\n",
            "cluster13 percision: 3.858185945271633e-05\n",
            "cluster14 percision: 0.35122031206293985\n",
            "the total percision is: 0.7438550350934163\n"
          ]
        }
      ],
      "source": [
        "for i in range(15):\n",
        "  print(f'cluster{i} percision: {c_perc2[i]}')\n",
        "\n",
        "print(f'the total percision is: {perc2}')"
      ]
    },
    {
      "cell_type": "code",
      "execution_count": 129,
      "metadata": {
        "id": "9Sqxw15FxHG1"
      },
      "outputs": [],
      "source": [
        "c_rec2, rec2 = recall(test_result2, 15)"
      ]
    },
    {
      "cell_type": "code",
      "execution_count": 130,
      "metadata": {
        "id": "8gRpYY3-xHG2",
        "colab": {
          "base_uri": "https://localhost:8080/"
        },
        "outputId": "379fa600-5d67-42da-8393-974417fd258b"
      },
      "outputs": [
        {
          "output_type": "stream",
          "name": "stdout",
          "text": [
            "cluster0 recall: 0\n",
            "cluster1 recall: 0.00361439817794722\n",
            "cluster2 recall: 6.601640507666154e-05\n",
            "cluster3 recall: 0.3342169893534685\n",
            "cluster4 recall: 0.00044561073426746544\n",
            "cluster5 recall: 0.00826855473585186\n",
            "cluster6 recall: 0.00019804921522998466\n",
            "cluster7 recall: 1.0\n",
            "cluster8 recall: 1.6504101269165386e-05\n",
            "cluster9 recall: 0.6679841897233202\n",
            "cluster10 recall: 0.0065686323051278245\n",
            "cluster11 recall: 0.9808743169398907\n",
            "cluster12 recall: 0.10759023617368917\n",
            "cluster13 recall: 0.00019804921522998466\n",
            "cluster14 recall: 0.6657220688520394\n",
            "the total recall is: 0.7322995745747352\n"
          ]
        }
      ],
      "source": [
        "for i in range(15):\n",
        "  print(f'cluster{i} recall: {c_rec2[i]}')\n",
        "\n",
        "print(f'the total recall is: {rec2}')"
      ]
    },
    {
      "cell_type": "code",
      "execution_count": 131,
      "metadata": {
        "id": "bBNH6AFgxHG3",
        "colab": {
          "base_uri": "https://localhost:8080/"
        },
        "outputId": "d7a7aa33-fff3-48af-a0da-7929df4165ea"
      },
      "outputs": [
        {
          "output_type": "execute_result",
          "data": {
            "text/plain": [
              "0.07043976925152902"
            ]
          },
          "metadata": {},
          "execution_count": 131
        }
      ],
      "source": [
        "F1_score(c_perc2, c_rec2, 15)"
      ]
    },
    {
      "cell_type": "code",
      "execution_count": 132,
      "metadata": {
        "id": "pfCONaijxHG3",
        "colab": {
          "base_uri": "https://localhost:8080/"
        },
        "outputId": "039499f1-bf06-4d9a-bd28-48e5a323da7e"
      },
      "outputs": [
        {
          "output_type": "execute_result",
          "data": {
            "text/plain": [
              "0.6753273648202184"
            ]
          },
          "metadata": {},
          "execution_count": 132
        }
      ],
      "source": [
        "Conditional_Entropy(test_result2, 15)"
      ]
    },
    {
      "cell_type": "markdown",
      "metadata": {
        "id": "iwKaq2XG_43j"
      },
      "source": [
        "## K = 23"
      ]
    },
    {
      "cell_type": "code",
      "source": [
        "x_train = df.drop(columns = ['target'])\n",
        "y_train = df['target']\n",
        "x_test = test.drop(columns = ['target'])\n",
        "y_test = test['target']"
      ],
      "metadata": {
        "id": "B6vtieJbdMfT"
      },
      "execution_count": 133,
      "outputs": []
    },
    {
      "cell_type": "markdown",
      "metadata": {
        "id": "BzqahLPCxW6A"
      },
      "source": [
        "### Train model"
      ]
    },
    {
      "cell_type": "code",
      "execution_count": 134,
      "metadata": {
        "id": "eFPu9GtFxW6E",
        "colab": {
          "base_uri": "https://localhost:8080/"
        },
        "outputId": "638a4201-0990-4460-e95d-cb1780014f46"
      },
      "outputs": [
        {
          "output_type": "stream",
          "name": "stdout",
          "text": [
            "l = 0, Error = 265507.37023355765\n",
            "l = 1, Error = 9090340.030203752\n",
            "l = 2, Error = 7248073.205862684\n",
            "l = 3, Error = 676770723.3015882\n",
            "l = 4, Error = 2912968.0664596995\n",
            "l = 5, Error = 1381883.315194855\n",
            "l = 6, Error = 1051732.8665031139\n",
            "l = 7, Error = 797284.929740488\n",
            "l = 8, Error = 211267.32078933262\n",
            "l = 9, Error = 94079.13216145016\n",
            "l = 10, Error = 230088.2022065172\n",
            "l = 11, Error = 260824.73262650022\n",
            "l = 12, Error = 318320.07029014005\n",
            "l = 13, Error = 221556.3798228289\n",
            "l = 14, Error = 90144.39345401693\n",
            "l = 15, Error = 104622.19560262292\n",
            "l = 16, Error = 74568.95118326641\n",
            "l = 17, Error = 64528.921032612765\n",
            "l = 18, Error = 89274.75489349461\n",
            "l = 19, Error = 78751.3152892204\n",
            "l = 20, Error = 46866.42088631915\n",
            "l = 21, Error = 28174.345290952147\n",
            "l = 22, Error = 29574.986837442346\n",
            "l = 23, Error = 5973.58534213041\n",
            "l = 24, Error = 30750.18344035303\n",
            "l = 25, Error = 10046.978259674332\n",
            "l = 26, Error = 5045.404045703749\n",
            "l = 27, Error = 10572.38819722559\n",
            "l = 28, Error = 23919.493380402397\n",
            "l = 29, Error = 59363.03162967584\n"
          ]
        }
      ],
      "source": [
        "clustered3, centroids3 = KNN_model_train(x_train, 23, 0.1, 30)"
      ]
    },
    {
      "cell_type": "code",
      "execution_count": 135,
      "metadata": {
        "id": "l2JARXX8xW6H"
      },
      "outputs": [],
      "source": [
        "clustered3['target'] = y_train\n",
        "train_result3 = clustered3[['target', 'cluster']]"
      ]
    },
    {
      "cell_type": "code",
      "execution_count": 136,
      "metadata": {
        "id": "vKJiHddPxW6K",
        "colab": {
          "base_uri": "https://localhost:8080/",
          "height": 424
        },
        "outputId": "beea924a-1f39-4033-d18c-5cd2219b1bca"
      },
      "outputs": [
        {
          "output_type": "execute_result",
          "data": {
            "text/plain": [
              "        target  cluster\n",
              "0           11       18\n",
              "1           11       13\n",
              "2           11       10\n",
              "3           11       10\n",
              "4           11       10\n",
              "...        ...      ...\n",
              "494016      11       10\n",
              "494017      11       10\n",
              "494018      11       13\n",
              "494019      11       13\n",
              "494020      11       13\n",
              "\n",
              "[494021 rows x 2 columns]"
            ],
            "text/html": [
              "\n",
              "  <div id=\"df-a2780b3f-4949-4878-9cc2-f73a5532e5e3\">\n",
              "    <div class=\"colab-df-container\">\n",
              "      <div>\n",
              "<style scoped>\n",
              "    .dataframe tbody tr th:only-of-type {\n",
              "        vertical-align: middle;\n",
              "    }\n",
              "\n",
              "    .dataframe tbody tr th {\n",
              "        vertical-align: top;\n",
              "    }\n",
              "\n",
              "    .dataframe thead th {\n",
              "        text-align: right;\n",
              "    }\n",
              "</style>\n",
              "<table border=\"1\" class=\"dataframe\">\n",
              "  <thead>\n",
              "    <tr style=\"text-align: right;\">\n",
              "      <th></th>\n",
              "      <th>target</th>\n",
              "      <th>cluster</th>\n",
              "    </tr>\n",
              "  </thead>\n",
              "  <tbody>\n",
              "    <tr>\n",
              "      <th>0</th>\n",
              "      <td>11</td>\n",
              "      <td>18</td>\n",
              "    </tr>\n",
              "    <tr>\n",
              "      <th>1</th>\n",
              "      <td>11</td>\n",
              "      <td>13</td>\n",
              "    </tr>\n",
              "    <tr>\n",
              "      <th>2</th>\n",
              "      <td>11</td>\n",
              "      <td>10</td>\n",
              "    </tr>\n",
              "    <tr>\n",
              "      <th>3</th>\n",
              "      <td>11</td>\n",
              "      <td>10</td>\n",
              "    </tr>\n",
              "    <tr>\n",
              "      <th>4</th>\n",
              "      <td>11</td>\n",
              "      <td>10</td>\n",
              "    </tr>\n",
              "    <tr>\n",
              "      <th>...</th>\n",
              "      <td>...</td>\n",
              "      <td>...</td>\n",
              "    </tr>\n",
              "    <tr>\n",
              "      <th>494016</th>\n",
              "      <td>11</td>\n",
              "      <td>10</td>\n",
              "    </tr>\n",
              "    <tr>\n",
              "      <th>494017</th>\n",
              "      <td>11</td>\n",
              "      <td>10</td>\n",
              "    </tr>\n",
              "    <tr>\n",
              "      <th>494018</th>\n",
              "      <td>11</td>\n",
              "      <td>13</td>\n",
              "    </tr>\n",
              "    <tr>\n",
              "      <th>494019</th>\n",
              "      <td>11</td>\n",
              "      <td>13</td>\n",
              "    </tr>\n",
              "    <tr>\n",
              "      <th>494020</th>\n",
              "      <td>11</td>\n",
              "      <td>13</td>\n",
              "    </tr>\n",
              "  </tbody>\n",
              "</table>\n",
              "<p>494021 rows × 2 columns</p>\n",
              "</div>\n",
              "      <button class=\"colab-df-convert\" onclick=\"convertToInteractive('df-a2780b3f-4949-4878-9cc2-f73a5532e5e3')\"\n",
              "              title=\"Convert this dataframe to an interactive table.\"\n",
              "              style=\"display:none;\">\n",
              "        \n",
              "  <svg xmlns=\"http://www.w3.org/2000/svg\" height=\"24px\"viewBox=\"0 0 24 24\"\n",
              "       width=\"24px\">\n",
              "    <path d=\"M0 0h24v24H0V0z\" fill=\"none\"/>\n",
              "    <path d=\"M18.56 5.44l.94 2.06.94-2.06 2.06-.94-2.06-.94-.94-2.06-.94 2.06-2.06.94zm-11 1L8.5 8.5l.94-2.06 2.06-.94-2.06-.94L8.5 2.5l-.94 2.06-2.06.94zm10 10l.94 2.06.94-2.06 2.06-.94-2.06-.94-.94-2.06-.94 2.06-2.06.94z\"/><path d=\"M17.41 7.96l-1.37-1.37c-.4-.4-.92-.59-1.43-.59-.52 0-1.04.2-1.43.59L10.3 9.45l-7.72 7.72c-.78.78-.78 2.05 0 2.83L4 21.41c.39.39.9.59 1.41.59.51 0 1.02-.2 1.41-.59l7.78-7.78 2.81-2.81c.8-.78.8-2.07 0-2.86zM5.41 20L4 18.59l7.72-7.72 1.47 1.35L5.41 20z\"/>\n",
              "  </svg>\n",
              "      </button>\n",
              "      \n",
              "  <style>\n",
              "    .colab-df-container {\n",
              "      display:flex;\n",
              "      flex-wrap:wrap;\n",
              "      gap: 12px;\n",
              "    }\n",
              "\n",
              "    .colab-df-convert {\n",
              "      background-color: #E8F0FE;\n",
              "      border: none;\n",
              "      border-radius: 50%;\n",
              "      cursor: pointer;\n",
              "      display: none;\n",
              "      fill: #1967D2;\n",
              "      height: 32px;\n",
              "      padding: 0 0 0 0;\n",
              "      width: 32px;\n",
              "    }\n",
              "\n",
              "    .colab-df-convert:hover {\n",
              "      background-color: #E2EBFA;\n",
              "      box-shadow: 0px 1px 2px rgba(60, 64, 67, 0.3), 0px 1px 3px 1px rgba(60, 64, 67, 0.15);\n",
              "      fill: #174EA6;\n",
              "    }\n",
              "\n",
              "    [theme=dark] .colab-df-convert {\n",
              "      background-color: #3B4455;\n",
              "      fill: #D2E3FC;\n",
              "    }\n",
              "\n",
              "    [theme=dark] .colab-df-convert:hover {\n",
              "      background-color: #434B5C;\n",
              "      box-shadow: 0px 1px 3px 1px rgba(0, 0, 0, 0.15);\n",
              "      filter: drop-shadow(0px 1px 2px rgba(0, 0, 0, 0.3));\n",
              "      fill: #FFFFFF;\n",
              "    }\n",
              "  </style>\n",
              "\n",
              "      <script>\n",
              "        const buttonEl =\n",
              "          document.querySelector('#df-a2780b3f-4949-4878-9cc2-f73a5532e5e3 button.colab-df-convert');\n",
              "        buttonEl.style.display =\n",
              "          google.colab.kernel.accessAllowed ? 'block' : 'none';\n",
              "\n",
              "        async function convertToInteractive(key) {\n",
              "          const element = document.querySelector('#df-a2780b3f-4949-4878-9cc2-f73a5532e5e3');\n",
              "          const dataTable =\n",
              "            await google.colab.kernel.invokeFunction('convertToInteractive',\n",
              "                                                     [key], {});\n",
              "          if (!dataTable) return;\n",
              "\n",
              "          const docLinkHtml = 'Like what you see? Visit the ' +\n",
              "            '<a target=\"_blank\" href=https://colab.research.google.com/notebooks/data_table.ipynb>data table notebook</a>'\n",
              "            + ' to learn more about interactive tables.';\n",
              "          element.innerHTML = '';\n",
              "          dataTable['output_type'] = 'display_data';\n",
              "          await google.colab.output.renderOutput(dataTable, element);\n",
              "          const docLink = document.createElement('div');\n",
              "          docLink.innerHTML = docLinkHtml;\n",
              "          element.appendChild(docLink);\n",
              "        }\n",
              "      </script>\n",
              "    </div>\n",
              "  </div>\n",
              "  "
            ]
          },
          "metadata": {},
          "execution_count": 136
        }
      ],
      "source": [
        "train_result3"
      ]
    },
    {
      "cell_type": "code",
      "execution_count": 137,
      "metadata": {
        "id": "8npjwzQ-xW6M"
      },
      "outputs": [],
      "source": [
        "c_perc3, perc3 = percision(train_result3, 23)\n"
      ]
    },
    {
      "cell_type": "code",
      "execution_count": 138,
      "metadata": {
        "id": "eIZICkNsxW6P",
        "colab": {
          "base_uri": "https://localhost:8080/"
        },
        "outputId": "6ae1c9a8-7cfa-4ca9-f5cc-dbde2a50f269"
      },
      "outputs": [
        {
          "output_type": "stream",
          "name": "stdout",
          "text": [
            "cluster0 percision: 0.00693087945654132\n",
            "cluster1 percision: 0.4611828242119262\n",
            "cluster2 percision: 0.004414792083737331\n",
            "cluster3 percision: 0.014130978237767221\n",
            "cluster4 percision: 0.004637454683100516\n",
            "cluster5 percision: 2.024205448756227e-06\n",
            "cluster6 percision: 0.002647660726973145\n",
            "cluster7 percision: 3.0363081731343407e-05\n",
            "cluster8 percision: 3.845990352636831e-05\n",
            "cluster9 percision: 0.0006902540580258734\n",
            "cluster10 percision: 0.041226992374818076\n",
            "cluster11 percision: 0.016418330394861756\n",
            "cluster12 percision: 0.002068737968628864\n",
            "cluster13 percision: 0.06428876505249778\n",
            "cluster14 percision: 0.0009614975881592077\n",
            "cluster15 percision: 0.00012145232692537362\n",
            "cluster16 percision: 0.023877527473528455\n",
            "cluster17 percision: 0.0005566564984079625\n",
            "cluster18 percision: 0.01846682630900306\n",
            "cluster19 percision: 0.06879262217598037\n",
            "cluster20 percision: 0.21699684831211627\n",
            "cluster21 percision: 0.006789185075128386\n",
            "cluster22 percision: 7.894401250149285e-05\n",
            "the total percision is: 0.9553500762113352\n"
          ]
        }
      ],
      "source": [
        "for i in range(23):\n",
        "  print(f'cluster{i} percision: {c_perc3[i]}')\n",
        "\n",
        "print(f'the total percision is: {perc3}')"
      ]
    },
    {
      "cell_type": "code",
      "execution_count": 139,
      "metadata": {
        "id": "-jN_6LnlxW6R"
      },
      "outputs": [],
      "source": [
        "c_rec3, rec3 = recall(train_result3, 23)"
      ]
    },
    {
      "cell_type": "code",
      "execution_count": 140,
      "metadata": {
        "id": "6El28SV3xW6T",
        "colab": {
          "base_uri": "https://localhost:8080/"
        },
        "outputId": "cc8e1d21-51b3-4da0-a2ae-d4cff1b3737f"
      },
      "outputs": [
        {
          "output_type": "stream",
          "name": "stdout",
          "text": [
            "cluster0 recall: 0.035198092066037544\n",
            "cluster1 recall: 0.8114035400121087\n",
            "cluster2 recall: 0.9900136177939174\n",
            "cluster3 recall: 0.024861996509847217\n",
            "cluster4 recall: 0.023551059849092292\n",
            "cluster5 recall: 0.0009615384615384616\n",
            "cluster6 recall: 0.8231592196349906\n",
            "cluster7 recall: 0.75\n",
            "cluster8 recall: 0.00019531651555336252\n",
            "cluster9 recall: 0.003505417463352454\n",
            "cluster10 recall: 0.20936902485659656\n",
            "cluster11 recall: 0.08337959250806966\n",
            "cluster12 recall: 0.01050597257344929\n",
            "cluster13 recall: 0.32648697547235755\n",
            "cluster14 recall: 0.004882912888834063\n",
            "cluster15 recall: 0.058823529411764705\n",
            "cluster16 recall: 0.04201004309270273\n",
            "cluster17 recall: 0.002826949567219721\n",
            "cluster18 recall: 0.09378276691543823\n",
            "cluster19 recall: 0.12103351258947968\n",
            "cluster20 recall: 1.0\n",
            "cluster21 recall: 0.03447850490347252\n",
            "cluster22 recall: 0.00040091284771479676\n",
            "the total recall is: 0.6834430831354763\n"
          ]
        }
      ],
      "source": [
        "for i in range(23):\n",
        "  print(f'cluster{i} recall: {c_rec3[i]}')\n",
        "\n",
        "print(f'the total recall is: {rec3}')"
      ]
    },
    {
      "cell_type": "code",
      "execution_count": 141,
      "metadata": {
        "id": "as2mmYjExW6V",
        "colab": {
          "base_uri": "https://localhost:8080/"
        },
        "outputId": "84442a83-8830-4dcf-bf08-7b90b9cd39b1"
      },
      "outputs": [
        {
          "output_type": "execute_result",
          "data": {
            "text/plain": [
              "0.05947413505085552"
            ]
          },
          "metadata": {},
          "execution_count": 141
        }
      ],
      "source": [
        "F1_score(c_perc3, c_rec3, 23)"
      ]
    },
    {
      "cell_type": "code",
      "execution_count": 142,
      "metadata": {
        "id": "vV6zZ3eUxW6X",
        "colab": {
          "base_uri": "https://localhost:8080/"
        },
        "outputId": "47a37612-b306-42da-f376-046e480eb0c9"
      },
      "outputs": [
        {
          "output_type": "execute_result",
          "data": {
            "text/plain": [
              "0.16435349391916781"
            ]
          },
          "metadata": {},
          "execution_count": 142
        }
      ],
      "source": [
        "Conditional_Entropy(train_result3, 23)"
      ]
    },
    {
      "cell_type": "markdown",
      "metadata": {
        "id": "T0eRcZGgxW6Z"
      },
      "source": [
        "### test model"
      ]
    },
    {
      "cell_type": "code",
      "execution_count": 143,
      "metadata": {
        "id": "fuDtG5zgxW6b"
      },
      "outputs": [],
      "source": [
        "test_clustered3 = KNN_model_test(x_test, centroids3, 23)"
      ]
    },
    {
      "cell_type": "code",
      "execution_count": 144,
      "metadata": {
        "id": "i2u9shEzxW6b"
      },
      "outputs": [],
      "source": [
        "test_clustered3['target'] = y_test\n",
        "test_result3 = test_clustered3[['target', 'cluster']]"
      ]
    },
    {
      "cell_type": "code",
      "execution_count": 178,
      "metadata": {
        "id": "JUp5VVp-xW6d",
        "colab": {
          "base_uri": "https://localhost:8080/"
        },
        "outputId": "fbdb4fbd-d507-4c1e-ce32-80e4a23a0de5"
      },
      "outputs": [
        {
          "output_type": "stream",
          "name": "stdout",
          "text": [
            "cluster number 0 is 16\n",
            "cluster number 1 is 27\n",
            "cluster number 2 is 1\n",
            "cluster number 3 is 16\n",
            "cluster number 4 is 10\n",
            "cluster number 6 is 25\n",
            "cluster number 7 is 16\n",
            "cluster number 8 is 16\n",
            "cluster number 9 is 16\n",
            "cluster number 10 is 16\n",
            "cluster number 11 is 27\n",
            "cluster number 12 is 16\n",
            "cluster number 13 is 16\n",
            "cluster number 14 is 16\n",
            "cluster number 15 is 16\n",
            "cluster number 16 is 27\n",
            "cluster number 17 is 16\n",
            "cluster number 18 is 16\n",
            "cluster number 19 is 27\n",
            "cluster number 20 is 14\n",
            "cluster number 21 is 21\n",
            "cluster number 22 is 16\n"
          ]
        }
      ],
      "source": [
        "values = np.sort(test_result3['cluster'].unique())\n",
        "\n",
        "for i in values: \n",
        "  print(f\"cluster number {i} is {test_result3[test_result3['cluster'] == i].value_counts().idxmax()[0]}\")"
      ]
    },
    {
      "cell_type": "code",
      "execution_count": 146,
      "metadata": {
        "id": "LNn7W7H6xW6e"
      },
      "outputs": [],
      "source": [
        "c_perc3, perc3 = percision(test_result3, 23)\n"
      ]
    },
    {
      "cell_type": "code",
      "execution_count": 147,
      "metadata": {
        "id": "BpClqCTzxW6e",
        "colab": {
          "base_uri": "https://localhost:8080/"
        },
        "outputId": "5611ccdb-6a6d-49db-bfd3-d22f6cdde018"
      },
      "outputs": [
        {
          "output_type": "stream",
          "name": "stdout",
          "text": [
            "cluster0 percision: 0.006584637346596919\n",
            "cluster1 percision: 0.24653165159294851\n",
            "cluster2 percision: 0.0034530764210181104\n",
            "cluster3 percision: 4.8227324315895405e-05\n",
            "cluster4 percision: 0.016075774771965135\n",
            "cluster5 percision: 0\n",
            "cluster6 percision: 0.004067171017307179\n",
            "cluster7 percision: 3.215154954393027e-06\n",
            "cluster8 percision: 3.858185945271633e-05\n",
            "cluster9 percision: 0.0005112096377484913\n",
            "cluster10 percision: 0.04087426493519855\n",
            "cluster11 percision: 0.10468866046999134\n",
            "cluster12 percision: 0.0010449253601777337\n",
            "cluster13 percision: 0.05917171178064926\n",
            "cluster14 percision: 3.858185945271633e-05\n",
            "cluster15 percision: 1.2860619817572108e-05\n",
            "cluster16 percision: 0.0002668578612146212\n",
            "cluster17 percision: 0.00036009735489201907\n",
            "cluster18 percision: 0.0200111244361422\n",
            "cluster19 percision: 0.17601687313320066\n",
            "cluster20 percision: 0.18648220250974998\n",
            "cluster21 percision: 0.0016300835618772646\n",
            "cluster22 percision: 5.144247927028843e-05\n",
            "the total percision is: 0.8679632314879415\n"
          ]
        }
      ],
      "source": [
        "for i in range(23):\n",
        "  print(f'cluster{i} percision: {c_perc3[i]}')\n",
        "\n",
        "print(f'the total percision is: {perc3}')"
      ]
    },
    {
      "cell_type": "code",
      "execution_count": 148,
      "metadata": {
        "id": "K4IFM5fOxW6f"
      },
      "outputs": [],
      "source": [
        "c_rec3, rec3 = recall(test_result3, 23)"
      ]
    },
    {
      "cell_type": "code",
      "execution_count": 149,
      "metadata": {
        "id": "I_PV5ppPxW6g",
        "colab": {
          "base_uri": "https://localhost:8080/"
        },
        "outputId": "9d142398-599d-4475-f8a4-0cc37ad712cc"
      },
      "outputs": [
        {
          "output_type": "stream",
          "name": "stdout",
          "text": [
            "cluster0 recall: 0.03380039939925071\n",
            "cluster1 recall: 0.46728949180637575\n",
            "cluster2 recall: 0.9781420765027322\n",
            "cluster3 recall: 0.00024756151903748084\n",
            "cluster4 recall: 1.0\n",
            "cluster5 recall: 0\n",
            "cluster6 recall: 0.7746478873239436\n",
            "cluster7 recall: 1.6504101269165386e-05\n",
            "cluster8 recall: 0.00019804921522998466\n",
            "cluster9 recall: 0.0026241521017972965\n",
            "cluster10 recall: 0.20981663943489956\n",
            "cluster11 recall: 0.1984325770456637\n",
            "cluster12 recall: 0.005363832912478751\n",
            "cluster13 recall: 0.3037414797577198\n",
            "cluster14 recall: 0.00019804921522998466\n",
            "cluster15 recall: 6.601640507666154e-05\n",
            "cluster16 recall: 0.0005058168942842691\n",
            "cluster17 recall: 0.0018484593421465233\n",
            "cluster18 recall: 0.10272152629928537\n",
            "cluster19 recall: 0.3336319481263445\n",
            "cluster20 recall: 1.0\n",
            "cluster21 recall: 0.6679841897233202\n",
            "cluster22 recall: 0.0002640656203066462\n",
            "the total recall is: 0.5560789208082779\n"
          ]
        }
      ],
      "source": [
        "for i in range(23):\n",
        "  print(f'cluster{i} recall: {c_rec3[i]}')\n",
        "\n",
        "print(f'the total recall is: {rec3}')"
      ]
    },
    {
      "cell_type": "code",
      "execution_count": 150,
      "metadata": {
        "id": "-tEoQwTIxW6g",
        "colab": {
          "base_uri": "https://localhost:8080/"
        },
        "outputId": "8a3578bd-eff2-4017-e827-4e55e869ff16"
      },
      "outputs": [
        {
          "output_type": "execute_result",
          "data": {
            "text/plain": [
              "0.0552335475663223"
            ]
          },
          "metadata": {},
          "execution_count": 150
        }
      ],
      "source": [
        "F1_score(c_perc3, c_rec3, 23)"
      ]
    },
    {
      "cell_type": "code",
      "execution_count": 151,
      "metadata": {
        "id": "fJdSZhK1xW6g",
        "colab": {
          "base_uri": "https://localhost:8080/"
        },
        "outputId": "592c625f-03ec-43e9-fe3c-34e797e215ba"
      },
      "outputs": [
        {
          "output_type": "execute_result",
          "data": {
            "text/plain": [
              "0.4483244283847121"
            ]
          },
          "metadata": {},
          "execution_count": 151
        }
      ],
      "source": [
        "Conditional_Entropy(test_result3, 23)"
      ]
    },
    {
      "cell_type": "markdown",
      "metadata": {
        "id": "8X9AmyGYxh8f"
      },
      "source": [
        "## K = 31"
      ]
    },
    {
      "cell_type": "code",
      "source": [
        "x_train = df.drop(columns = ['target'])\n",
        "y_train = df['target']\n",
        "x_test = test.drop(columns = ['target'])\n",
        "y_test = test['target']"
      ],
      "metadata": {
        "id": "ezbZoe1xdQxn"
      },
      "execution_count": 25,
      "outputs": []
    },
    {
      "cell_type": "markdown",
      "metadata": {
        "id": "8kyXwXS_xkx4"
      },
      "source": [
        "### Train model"
      ]
    },
    {
      "cell_type": "code",
      "execution_count": 26,
      "metadata": {
        "id": "oXXg7lEBxkx5",
        "colab": {
          "base_uri": "https://localhost:8080/"
        },
        "outputId": "28bb8577-a94f-48cd-c5b0-a5e6e70c8057"
      },
      "outputs": [
        {
          "output_type": "stream",
          "name": "stdout",
          "text": [
            "l = 0, Error = 24239.54987235169\n",
            "l = 1, Error = 371163.12364392454\n",
            "l = 2, Error = 10592294.692097774\n",
            "l = 3, Error = 682392653.2297082\n",
            "l = 4, Error = 2891368.532961162\n",
            "l = 5, Error = 1197091.7264911644\n",
            "l = 6, Error = 797284.929740488\n",
            "l = 7, Error = 211267.32078933262\n",
            "l = 8, Error = 215787.93738062153\n",
            "l = 9, Error = 260175.49216074066\n",
            "l = 10, Error = 337799.9490994972\n",
            "l = 11, Error = 243513.8077619321\n",
            "l = 12, Error = 90144.39345401693\n",
            "l = 13, Error = 104622.19560262292\n",
            "l = 14, Error = 74568.95118326641\n",
            "l = 15, Error = 82156.58403656168\n",
            "l = 16, Error = 86108.2754682526\n",
            "l = 17, Error = 60857.61856676498\n",
            "l = 18, Error = 30914.875991250057\n",
            "l = 19, Error = 31548.366669025963\n",
            "l = 20, Error = 29574.986837442346\n",
            "l = 21, Error = 30750.18344035303\n",
            "l = 22, Error = 10046.978259674332\n",
            "l = 23, Error = 6871.100872204077\n",
            "l = 24, Error = 14674.516746646113\n",
            "l = 25, Error = 57113.880379903436\n",
            "l = 26, Error = 44758.73055965722\n",
            "l = 27, Error = 49349.07292732391\n",
            "l = 28, Error = 57278.04303063824\n",
            "l = 29, Error = 32825.20931814979\n"
          ]
        }
      ],
      "source": [
        "clustered4, centroids4 = KNN_model_train(x_train, 31, 0.1, 30)"
      ]
    },
    {
      "cell_type": "code",
      "execution_count": 27,
      "metadata": {
        "id": "tsVHKu86xkx6"
      },
      "outputs": [],
      "source": [
        "clustered4['target'] = y_train\n",
        "train_result4 = clustered4[['target', 'cluster']]"
      ]
    },
    {
      "cell_type": "code",
      "execution_count": 28,
      "metadata": {
        "id": "7EioOfWXxkx7",
        "colab": {
          "base_uri": "https://localhost:8080/",
          "height": 424
        },
        "outputId": "b22213f1-33a0-47e0-c27b-5b5e6c702bef"
      },
      "outputs": [
        {
          "output_type": "execute_result",
          "data": {
            "text/plain": [
              "        target  cluster\n",
              "0           11        6\n",
              "1           11        1\n",
              "2           11        5\n",
              "3           11        5\n",
              "4           11        5\n",
              "...        ...      ...\n",
              "494016      11        5\n",
              "494017      11        5\n",
              "494018      11        5\n",
              "494019      11        5\n",
              "494020      11        5\n",
              "\n",
              "[494021 rows x 2 columns]"
            ],
            "text/html": [
              "\n",
              "  <div id=\"df-d96d98b2-eb67-406a-970e-3e4459efcd7a\">\n",
              "    <div class=\"colab-df-container\">\n",
              "      <div>\n",
              "<style scoped>\n",
              "    .dataframe tbody tr th:only-of-type {\n",
              "        vertical-align: middle;\n",
              "    }\n",
              "\n",
              "    .dataframe tbody tr th {\n",
              "        vertical-align: top;\n",
              "    }\n",
              "\n",
              "    .dataframe thead th {\n",
              "        text-align: right;\n",
              "    }\n",
              "</style>\n",
              "<table border=\"1\" class=\"dataframe\">\n",
              "  <thead>\n",
              "    <tr style=\"text-align: right;\">\n",
              "      <th></th>\n",
              "      <th>target</th>\n",
              "      <th>cluster</th>\n",
              "    </tr>\n",
              "  </thead>\n",
              "  <tbody>\n",
              "    <tr>\n",
              "      <th>0</th>\n",
              "      <td>11</td>\n",
              "      <td>6</td>\n",
              "    </tr>\n",
              "    <tr>\n",
              "      <th>1</th>\n",
              "      <td>11</td>\n",
              "      <td>1</td>\n",
              "    </tr>\n",
              "    <tr>\n",
              "      <th>2</th>\n",
              "      <td>11</td>\n",
              "      <td>5</td>\n",
              "    </tr>\n",
              "    <tr>\n",
              "      <th>3</th>\n",
              "      <td>11</td>\n",
              "      <td>5</td>\n",
              "    </tr>\n",
              "    <tr>\n",
              "      <th>4</th>\n",
              "      <td>11</td>\n",
              "      <td>5</td>\n",
              "    </tr>\n",
              "    <tr>\n",
              "      <th>...</th>\n",
              "      <td>...</td>\n",
              "      <td>...</td>\n",
              "    </tr>\n",
              "    <tr>\n",
              "      <th>494016</th>\n",
              "      <td>11</td>\n",
              "      <td>5</td>\n",
              "    </tr>\n",
              "    <tr>\n",
              "      <th>494017</th>\n",
              "      <td>11</td>\n",
              "      <td>5</td>\n",
              "    </tr>\n",
              "    <tr>\n",
              "      <th>494018</th>\n",
              "      <td>11</td>\n",
              "      <td>5</td>\n",
              "    </tr>\n",
              "    <tr>\n",
              "      <th>494019</th>\n",
              "      <td>11</td>\n",
              "      <td>5</td>\n",
              "    </tr>\n",
              "    <tr>\n",
              "      <th>494020</th>\n",
              "      <td>11</td>\n",
              "      <td>5</td>\n",
              "    </tr>\n",
              "  </tbody>\n",
              "</table>\n",
              "<p>494021 rows × 2 columns</p>\n",
              "</div>\n",
              "      <button class=\"colab-df-convert\" onclick=\"convertToInteractive('df-d96d98b2-eb67-406a-970e-3e4459efcd7a')\"\n",
              "              title=\"Convert this dataframe to an interactive table.\"\n",
              "              style=\"display:none;\">\n",
              "        \n",
              "  <svg xmlns=\"http://www.w3.org/2000/svg\" height=\"24px\"viewBox=\"0 0 24 24\"\n",
              "       width=\"24px\">\n",
              "    <path d=\"M0 0h24v24H0V0z\" fill=\"none\"/>\n",
              "    <path d=\"M18.56 5.44l.94 2.06.94-2.06 2.06-.94-2.06-.94-.94-2.06-.94 2.06-2.06.94zm-11 1L8.5 8.5l.94-2.06 2.06-.94-2.06-.94L8.5 2.5l-.94 2.06-2.06.94zm10 10l.94 2.06.94-2.06 2.06-.94-2.06-.94-.94-2.06-.94 2.06-2.06.94z\"/><path d=\"M17.41 7.96l-1.37-1.37c-.4-.4-.92-.59-1.43-.59-.52 0-1.04.2-1.43.59L10.3 9.45l-7.72 7.72c-.78.78-.78 2.05 0 2.83L4 21.41c.39.39.9.59 1.41.59.51 0 1.02-.2 1.41-.59l7.78-7.78 2.81-2.81c.8-.78.8-2.07 0-2.86zM5.41 20L4 18.59l7.72-7.72 1.47 1.35L5.41 20z\"/>\n",
              "  </svg>\n",
              "      </button>\n",
              "      \n",
              "  <style>\n",
              "    .colab-df-container {\n",
              "      display:flex;\n",
              "      flex-wrap:wrap;\n",
              "      gap: 12px;\n",
              "    }\n",
              "\n",
              "    .colab-df-convert {\n",
              "      background-color: #E8F0FE;\n",
              "      border: none;\n",
              "      border-radius: 50%;\n",
              "      cursor: pointer;\n",
              "      display: none;\n",
              "      fill: #1967D2;\n",
              "      height: 32px;\n",
              "      padding: 0 0 0 0;\n",
              "      width: 32px;\n",
              "    }\n",
              "\n",
              "    .colab-df-convert:hover {\n",
              "      background-color: #E2EBFA;\n",
              "      box-shadow: 0px 1px 2px rgba(60, 64, 67, 0.3), 0px 1px 3px 1px rgba(60, 64, 67, 0.15);\n",
              "      fill: #174EA6;\n",
              "    }\n",
              "\n",
              "    [theme=dark] .colab-df-convert {\n",
              "      background-color: #3B4455;\n",
              "      fill: #D2E3FC;\n",
              "    }\n",
              "\n",
              "    [theme=dark] .colab-df-convert:hover {\n",
              "      background-color: #434B5C;\n",
              "      box-shadow: 0px 1px 3px 1px rgba(0, 0, 0, 0.15);\n",
              "      filter: drop-shadow(0px 1px 2px rgba(0, 0, 0, 0.3));\n",
              "      fill: #FFFFFF;\n",
              "    }\n",
              "  </style>\n",
              "\n",
              "      <script>\n",
              "        const buttonEl =\n",
              "          document.querySelector('#df-d96d98b2-eb67-406a-970e-3e4459efcd7a button.colab-df-convert');\n",
              "        buttonEl.style.display =\n",
              "          google.colab.kernel.accessAllowed ? 'block' : 'none';\n",
              "\n",
              "        async function convertToInteractive(key) {\n",
              "          const element = document.querySelector('#df-d96d98b2-eb67-406a-970e-3e4459efcd7a');\n",
              "          const dataTable =\n",
              "            await google.colab.kernel.invokeFunction('convertToInteractive',\n",
              "                                                     [key], {});\n",
              "          if (!dataTable) return;\n",
              "\n",
              "          const docLinkHtml = 'Like what you see? Visit the ' +\n",
              "            '<a target=\"_blank\" href=https://colab.research.google.com/notebooks/data_table.ipynb>data table notebook</a>'\n",
              "            + ' to learn more about interactive tables.';\n",
              "          element.innerHTML = '';\n",
              "          dataTable['output_type'] = 'display_data';\n",
              "          await google.colab.output.renderOutput(dataTable, element);\n",
              "          const docLink = document.createElement('div');\n",
              "          docLink.innerHTML = docLinkHtml;\n",
              "          element.appendChild(docLink);\n",
              "        }\n",
              "      </script>\n",
              "    </div>\n",
              "  </div>\n",
              "  "
            ]
          },
          "metadata": {},
          "execution_count": 28
        }
      ],
      "source": [
        "train_result4"
      ]
    },
    {
      "cell_type": "code",
      "execution_count": 29,
      "metadata": {
        "id": "P2JlVpuSxkx8"
      },
      "outputs": [],
      "source": [
        "c_perc4, perc4 = percision(train_result4, 31)\n"
      ]
    },
    {
      "cell_type": "code",
      "execution_count": 30,
      "metadata": {
        "id": "1vAUp733xkx9",
        "colab": {
          "base_uri": "https://localhost:8080/"
        },
        "outputId": "5af321b7-64ba-4af7-e211-e6b5eca69935"
      },
      "outputs": [
        {
          "output_type": "stream",
          "name": "stdout",
          "text": [
            "cluster0 percision: 0.1067889826545835\n",
            "cluster1 percision: 0.04638061944735143\n",
            "cluster2 percision: 0.00020039633942686648\n",
            "cluster3 percision: 0.017588321144242858\n",
            "cluster4 percision: 0.004416816289186088\n",
            "cluster5 percision: 0.037095589053906614\n",
            "cluster6 percision: 0.023515194698201087\n",
            "cluster7 percision: 0.023379572933134418\n",
            "cluster8 percision: 0.01994652049204386\n",
            "cluster9 percision: 0.0002651709137870657\n",
            "cluster10 percision: 0.0026112250288955327\n",
            "cluster11 percision: 0.0010869983259820938\n",
            "cluster12 percision: 0.026875375743136424\n",
            "cluster13 percision: 2.024205448756227e-06\n",
            "cluster14 percision: 3.0363081731343407e-05\n",
            "cluster15 percision: 0.0039067165160995175\n",
            "cluster16 percision: 0.04429973624603003\n",
            "cluster17 percision: 0.024934162717779203\n",
            "cluster18 percision: 0.014021671143534383\n",
            "cluster19 percision: 3.441149262885586e-05\n",
            "cluster20 percision: 0.024624459284119504\n",
            "cluster21 percision: 0.024306659028664773\n",
            "cluster22 percision: 0.00012145232692537362\n",
            "cluster23 percision: 0.0020565927359363265\n",
            "cluster24 percision: 5.26293416676619e-05\n",
            "cluster25 percision: 0.052795326514459916\n",
            "cluster26 percision: 0.0019756245179860773\n",
            "cluster27 percision: 0.0032245592798686696\n",
            "cluster28 percision: 0.0012064264474587112\n",
            "cluster29 percision: 0.0050402715674030055\n",
            "cluster30 percision: 0.4615532538090486\n",
            "the total percision is: 0.9743371233206686\n"
          ]
        }
      ],
      "source": [
        "for i in range(31):\n",
        "  print(f'cluster{i} percision: {c_perc4[i]}')\n",
        "\n",
        "print(f'the total percision is: {perc4}')"
      ]
    },
    {
      "cell_type": "code",
      "execution_count": 31,
      "metadata": {
        "id": "REcfkPDSxkx_"
      },
      "outputs": [],
      "source": [
        "c_rec4, rec4 = recall(train_result4, 31)"
      ]
    },
    {
      "cell_type": "code",
      "execution_count": 32,
      "metadata": {
        "id": "LlQV56vFxkyB",
        "colab": {
          "base_uri": "https://localhost:8080/"
        },
        "outputId": "b391c368-4450-4d6d-94f9-5c5ac40fadb6"
      },
      "outputs": [
        {
          "output_type": "stream",
          "name": "stdout",
          "text": [
            "cluster0 recall: 0.1878841839096834\n",
            "cluster1 recall: 0.23554143794074714\n",
            "cluster2 recall: 0.0010177018441990995\n",
            "cluster3 recall: 0.0893213265075351\n",
            "cluster4 recall: 0.9904675442578302\n",
            "cluster5 recall: 0.1883879191595222\n",
            "cluster6 recall: 0.11942062953596908\n",
            "cluster7 recall: 0.10774153226182591\n",
            "cluster8 recall: 0.09192078432104178\n",
            "cluster9 recall: 0.0013466559756573943\n",
            "cluster10 recall: 0.8118313404657017\n",
            "cluster11 recall: 0.005520261518534509\n",
            "cluster12 recall: 0.12385145660954655\n",
            "cluster13 recall: 0.0009615384615384616\n",
            "cluster14 recall: 0.75\n",
            "cluster15 recall: 0.019840046053578406\n",
            "cluster16 recall: 0.20414921502597924\n",
            "cluster17 recall: 0.11490564453689797\n",
            "cluster18 recall: 0.07120828964411274\n",
            "cluster19 recall: 0.0001747568823372191\n",
            "cluster20 recall: 0.11347841904459846\n",
            "cluster21 recall: 0.12344003782972512\n",
            "cluster22 recall: 0.058823529411764705\n",
            "cluster23 recall: 0.01044429367380086\n",
            "cluster24 recall: 0.0002672752318098645\n",
            "cluster25 recall: 0.24329996921670508\n",
            "cluster26 recall: 0.01003310100947799\n",
            "cluster27 recall: 0.016375747856658237\n",
            "cluster28 recall: 0.00612677069841074\n",
            "cluster29 recall: 0.02559674335409856\n",
            "cluster30 recall: 0.8120552726236689\n",
            "the total recall is: 0.4747329216021014\n"
          ]
        }
      ],
      "source": [
        "for i in range(31):\n",
        "  print(f'cluster{i} recall: {c_rec4[i]}')\n",
        "\n",
        "print(f'the total recall is: {rec4}')"
      ]
    },
    {
      "cell_type": "code",
      "execution_count": 33,
      "metadata": {
        "id": "R7LtRjqVxkyC",
        "colab": {
          "base_uri": "https://localhost:8080/"
        },
        "outputId": "bc4b9df4-596b-4afb-d15d-45b14619da2c"
      },
      "outputs": [
        {
          "output_type": "execute_result",
          "data": {
            "text/plain": [
              "0.04514460865795432"
            ]
          },
          "metadata": {},
          "execution_count": 33
        }
      ],
      "source": [
        "F1_score(c_perc4, c_rec4, 31)"
      ]
    },
    {
      "cell_type": "code",
      "execution_count": 34,
      "metadata": {
        "id": "ScgnkUH2xkyD",
        "colab": {
          "base_uri": "https://localhost:8080/"
        },
        "outputId": "9892bba2-c585-4a80-bb22-96ff9845faa7"
      },
      "outputs": [
        {
          "output_type": "execute_result",
          "data": {
            "text/plain": [
              "0.11657062548346328"
            ]
          },
          "metadata": {},
          "execution_count": 34
        }
      ],
      "source": [
        "Conditional_Entropy(train_result4, 31)"
      ]
    },
    {
      "cell_type": "markdown",
      "metadata": {
        "id": "9Pv_QrQaxkyH"
      },
      "source": [
        "### test model"
      ]
    },
    {
      "cell_type": "code",
      "execution_count": 35,
      "metadata": {
        "id": "aCr6izNhxkyH"
      },
      "outputs": [],
      "source": [
        "test_clustered4 = KNN_model_test(x_test, centroids4, 31)"
      ]
    },
    {
      "cell_type": "code",
      "execution_count": 36,
      "metadata": {
        "id": "zLiNgJPyxkyI"
      },
      "outputs": [],
      "source": [
        "test_clustered4['target'] = y_test\n",
        "test_result4 = test_clustered4[['target', 'cluster']]"
      ]
    },
    {
      "cell_type": "code",
      "execution_count": 179,
      "metadata": {
        "id": "vGJS3ebIxkyI",
        "colab": {
          "base_uri": "https://localhost:8080/"
        },
        "outputId": "d17cdb4f-caa8-4acd-ee97-2c7669291138"
      },
      "outputs": [
        {
          "output_type": "stream",
          "name": "stdout",
          "text": [
            "cluster number 0 is 27\n",
            "cluster number 1 is 16\n",
            "cluster number 2 is 16\n",
            "cluster number 3 is 16\n",
            "cluster number 4 is 1\n",
            "cluster number 5 is 16\n",
            "cluster number 6 is 16\n",
            "cluster number 7 is 14\n",
            "cluster number 8 is 14\n",
            "cluster number 9 is 16\n",
            "cluster number 10 is 25\n",
            "cluster number 11 is 16\n",
            "cluster number 12 is 14\n",
            "cluster number 14 is 16\n",
            "cluster number 15 is 16\n",
            "cluster number 16 is 14\n",
            "cluster number 17 is 14\n",
            "cluster number 18 is 16\n",
            "cluster number 19 is 16\n",
            "cluster number 20 is 14\n",
            "cluster number 21 is 16\n",
            "cluster number 22 is 16\n",
            "cluster number 23 is 16\n",
            "cluster number 24 is 16\n",
            "cluster number 25 is 14\n",
            "cluster number 26 is 21\n",
            "cluster number 27 is 16\n",
            "cluster number 28 is 16\n",
            "cluster number 29 is 16\n",
            "cluster number 30 is 27\n"
          ]
        }
      ],
      "source": [
        "values = np.sort(test_result4['cluster'].unique())\n",
        "\n",
        "for i in values: \n",
        "  print(f\"cluster number {i} is {test_result4[test_result4['cluster'] == i].value_counts().idxmax()[0]}\")"
      ]
    },
    {
      "cell_type": "code",
      "execution_count": 38,
      "metadata": {
        "id": "fo4bCRH7xkyJ"
      },
      "outputs": [],
      "source": [
        "c_perc4, perc4 = percision(test_result4, 31)\n"
      ]
    },
    {
      "cell_type": "code",
      "execution_count": 39,
      "metadata": {
        "id": "f9Yy3_SxxkyJ",
        "colab": {
          "base_uri": "https://localhost:8080/"
        },
        "outputId": "37d6b4ae-ca05-4730-aa84-d3d3ae4d48e5"
      },
      "outputs": [
        {
          "output_type": "stream",
          "name": "stdout",
          "text": [
            "cluster0 percision: 0.17623550367009938\n",
            "cluster1 percision: 0.04525009082812746\n",
            "cluster2 percision: 0.00013825166303890017\n",
            "cluster3 percision: 0.005568648381008723\n",
            "cluster4 percision: 0.00346272188588129\n",
            "cluster5 percision: 0.037932398151928934\n",
            "cluster6 percision: 0.02362174344992557\n",
            "cluster7 percision: 0.017104624357370903\n",
            "cluster8 percision: 0.0130953261292428\n",
            "cluster9 percision: 2.250608468075119e-05\n",
            "cluster10 percision: 0.003977146678584174\n",
            "cluster11 percision: 2.8936394589537242e-05\n",
            "cluster12 percision: 0.01811096785809592\n",
            "cluster13 percision: 0\n",
            "cluster14 percision: 3.215154954393027e-06\n",
            "cluster15 percision: 0.003990007298401746\n",
            "cluster16 percision: 0.024007562044452733\n",
            "cluster17 percision: 0.017516164191533214\n",
            "cluster18 percision: 0.014751130930755207\n",
            "cluster19 percision: 3.53667044983233e-05\n",
            "cluster20 percision: 0.01970246956052047\n",
            "cluster21 percision: 0.04944265288865597\n",
            "cluster22 percision: 1.2860619817572108e-05\n",
            "cluster23 percision: 0.0012828468268028179\n",
            "cluster24 percision: 2.5721239635144213e-05\n",
            "cluster25 percision: 0.07657213039382434\n",
            "cluster26 percision: 0.0016300835618772648\n",
            "cluster27 percision: 0.002951512248132799\n",
            "cluster28 percision: 0.000704118935012073\n",
            "cluster29 percision: 2.8936394589537245e-05\n",
            "cluster30 percision: 0.3512203120629399\n",
            "the total percision is: 0.908425956588978\n"
          ]
        }
      ],
      "source": [
        "for i in range(31):\n",
        "  print(f'cluster{i} percision: {c_perc4[i]}')\n",
        "\n",
        "print(f'the total percision is: {perc4}')"
      ]
    },
    {
      "cell_type": "code",
      "execution_count": 40,
      "metadata": {
        "id": "smO7FCCwxkyJ"
      },
      "outputs": [],
      "source": [
        "c_rec4, rec4 = recall(test_result4, 31)"
      ]
    },
    {
      "cell_type": "code",
      "execution_count": 41,
      "metadata": {
        "id": "8qWvoG29xkyK",
        "colab": {
          "base_uri": "https://localhost:8080/"
        },
        "outputId": "58cd058f-2f06-489c-f829-cf83e75a5529"
      },
      "outputs": [
        {
          "output_type": "stream",
          "name": "stdout",
          "text": [
            "cluster0 recall: 0.3340463523288907\n",
            "cluster1 recall: 0.23227872126223367\n",
            "cluster2 recall: 0.0007096763545741116\n",
            "cluster3 recall: 0.02858510339819445\n",
            "cluster4 recall: 0.9808743169398907\n",
            "cluster5 recall: 0.19471538677361325\n",
            "cluster6 recall: 0.12125563202455811\n",
            "cluster7 recall: 0.09172255650764642\n",
            "cluster8 recall: 0.0702229271909105\n",
            "cluster9 recall: 0.00011552870888415771\n",
            "cluster10 recall: 0.7575015309246785\n",
            "cluster11 recall: 0.00014853691142248848\n",
            "cluster12 recall: 0.09711901518939328\n",
            "cluster13 recall: 0\n",
            "cluster14 recall: 1.6504101269165386e-05\n",
            "cluster15 recall: 0.020481589675034245\n",
            "cluster16 recall: 0.12873915966966087\n",
            "cluster17 recall: 0.09392941501008603\n",
            "cluster18 recall: 0.0757208166229308\n",
            "cluster19 recall: 0.00018154511396081927\n",
            "cluster20 recall: 0.10565335080429648\n",
            "cluster21 recall: 0.2538000693172253\n",
            "cluster22 recall: 6.601640507666154e-05\n",
            "cluster23 recall: 0.00658513640639699\n",
            "cluster24 recall: 0.0001320328101533231\n",
            "cluster25 recall: 0.4106136101101705\n",
            "cluster26 recall: 0.6679841897233202\n",
            "cluster27 recall: 0.015150764965093827\n",
            "cluster28 recall: 0.00361439817794722\n",
            "cluster29 recall: 0.00014853691142248848\n",
            "cluster30 recall: 0.6657220688520394\n",
            "the total recall is: 0.4104461641686712\n"
          ]
        }
      ],
      "source": [
        "for i in range(31):\n",
        "  print(f'cluster{i} recall: {c_rec4[i]}')\n",
        "\n",
        "print(f'the total recall is: {rec4}')"
      ]
    },
    {
      "cell_type": "code",
      "execution_count": 42,
      "metadata": {
        "id": "vEx8x9EExkyK",
        "colab": {
          "base_uri": "https://localhost:8080/"
        },
        "outputId": "ec7ab94a-bc91-4934-8b4f-285f5bfa562a"
      },
      "outputs": [
        {
          "output_type": "execute_result",
          "data": {
            "text/plain": [
              "0.04301150931950687"
            ]
          },
          "metadata": {},
          "execution_count": 42
        }
      ],
      "source": [
        "F1_score(c_perc4, c_rec4, 31)"
      ]
    },
    {
      "cell_type": "code",
      "execution_count": 44,
      "metadata": {
        "id": "fr7AOtzBxkyK",
        "colab": {
          "base_uri": "https://localhost:8080/"
        },
        "outputId": "f2615685-aaf3-4ad9-d55b-e0b930604bc8"
      },
      "outputs": [
        {
          "output_type": "execute_result",
          "data": {
            "text/plain": [
              "0.3023129711592183"
            ]
          },
          "metadata": {},
          "execution_count": 44
        }
      ],
      "source": [
        "Conditional_Entropy(test_result4, 31)"
      ]
    },
    {
      "cell_type": "markdown",
      "metadata": {
        "id": "LwhNdBVsxxhC"
      },
      "source": [
        "## K = 45"
      ]
    },
    {
      "cell_type": "code",
      "source": [
        "x_train = df.drop(columns = ['target'])\n",
        "y_train = df['target']\n",
        "x_test = test.drop(columns = ['target'])\n",
        "y_test = test['target']"
      ],
      "metadata": {
        "id": "W1tYYzBsdTuN"
      },
      "execution_count": 78,
      "outputs": []
    },
    {
      "cell_type": "markdown",
      "metadata": {
        "id": "IBZKdFQHx0Cn"
      },
      "source": [
        "### Train model"
      ]
    },
    {
      "cell_type": "code",
      "execution_count": 79,
      "metadata": {
        "id": "W4xwEoA0x0Cp",
        "colab": {
          "base_uri": "https://localhost:8080/"
        },
        "outputId": "2b336750-c9ae-4351-f39d-281f6fb1ab20"
      },
      "outputs": [
        {
          "output_type": "stream",
          "name": "stdout",
          "text": [
            "l = 0, Error = 26862.042354679215\n",
            "l = 1, Error = 427103.1373660644\n",
            "l = 2, Error = 10528047.446459295\n",
            "l = 3, Error = 682392653.2297082\n",
            "l = 4, Error = 2860931.2750259945\n",
            "l = 5, Error = 1247037.0092795924\n",
            "l = 6, Error = 797284.929740488\n",
            "l = 7, Error = 211267.32078933262\n",
            "l = 8, Error = 183537.8997128994\n",
            "l = 9, Error = 246554.34077918096\n",
            "l = 10, Error = 335814.65475578303\n",
            "l = 11, Error = 234710.05383794042\n",
            "l = 12, Error = 150165.6397297771\n",
            "l = 13, Error = 123337.00585108857\n",
            "l = 14, Error = 74568.95118326641\n",
            "l = 15, Error = 68418.63520671765\n",
            "l = 16, Error = 84207.4539617598\n",
            "l = 17, Error = 77287.99655443653\n",
            "l = 18, Error = 44880.51664050117\n",
            "l = 19, Error = 28174.345290952147\n",
            "l = 20, Error = 29574.986837442346\n",
            "l = 21, Error = 5973.58534213041\n",
            "l = 22, Error = 30750.18344035303\n",
            "l = 23, Error = 10189.686932362596\n",
            "l = 24, Error = 10572.38819722559\n",
            "l = 25, Error = 23919.493380402397\n",
            "l = 26, Error = 59363.03162967584\n",
            "l = 27, Error = 32816.87549264072\n",
            "l = 28, Error = 81832.80792766697\n",
            "l = 29, Error = 36319.148079289655\n"
          ]
        }
      ],
      "source": [
        "clustered, centroids = KNN_model_train(x_train, 45, 0.1, 30)"
      ]
    },
    {
      "cell_type": "code",
      "execution_count": 80,
      "metadata": {
        "id": "3gl7rnzkx0Cs"
      },
      "outputs": [],
      "source": [
        "clustered['target'] = y_train\n",
        "train_result = clustered[['target', 'cluster']]"
      ]
    },
    {
      "cell_type": "code",
      "execution_count": 81,
      "metadata": {
        "id": "4nlq1xKDx0Ct",
        "colab": {
          "base_uri": "https://localhost:8080/",
          "height": 424
        },
        "outputId": "a2a03cb4-5a21-4dd9-ece7-82bd1de33ce4"
      },
      "outputs": [
        {
          "output_type": "execute_result",
          "data": {
            "text/plain": [
              "        target  cluster\n",
              "0           11       18\n",
              "1           11       23\n",
              "2           11       32\n",
              "3           11       32\n",
              "4           11       32\n",
              "...        ...      ...\n",
              "494016      11       32\n",
              "494017      11       32\n",
              "494018      11       38\n",
              "494019      11       38\n",
              "494020      11       38\n",
              "\n",
              "[494021 rows x 2 columns]"
            ],
            "text/html": [
              "\n",
              "  <div id=\"df-89b94d8b-d417-4ad5-9709-88d385f50384\">\n",
              "    <div class=\"colab-df-container\">\n",
              "      <div>\n",
              "<style scoped>\n",
              "    .dataframe tbody tr th:only-of-type {\n",
              "        vertical-align: middle;\n",
              "    }\n",
              "\n",
              "    .dataframe tbody tr th {\n",
              "        vertical-align: top;\n",
              "    }\n",
              "\n",
              "    .dataframe thead th {\n",
              "        text-align: right;\n",
              "    }\n",
              "</style>\n",
              "<table border=\"1\" class=\"dataframe\">\n",
              "  <thead>\n",
              "    <tr style=\"text-align: right;\">\n",
              "      <th></th>\n",
              "      <th>target</th>\n",
              "      <th>cluster</th>\n",
              "    </tr>\n",
              "  </thead>\n",
              "  <tbody>\n",
              "    <tr>\n",
              "      <th>0</th>\n",
              "      <td>11</td>\n",
              "      <td>18</td>\n",
              "    </tr>\n",
              "    <tr>\n",
              "      <th>1</th>\n",
              "      <td>11</td>\n",
              "      <td>23</td>\n",
              "    </tr>\n",
              "    <tr>\n",
              "      <th>2</th>\n",
              "      <td>11</td>\n",
              "      <td>32</td>\n",
              "    </tr>\n",
              "    <tr>\n",
              "      <th>3</th>\n",
              "      <td>11</td>\n",
              "      <td>32</td>\n",
              "    </tr>\n",
              "    <tr>\n",
              "      <th>4</th>\n",
              "      <td>11</td>\n",
              "      <td>32</td>\n",
              "    </tr>\n",
              "    <tr>\n",
              "      <th>...</th>\n",
              "      <td>...</td>\n",
              "      <td>...</td>\n",
              "    </tr>\n",
              "    <tr>\n",
              "      <th>494016</th>\n",
              "      <td>11</td>\n",
              "      <td>32</td>\n",
              "    </tr>\n",
              "    <tr>\n",
              "      <th>494017</th>\n",
              "      <td>11</td>\n",
              "      <td>32</td>\n",
              "    </tr>\n",
              "    <tr>\n",
              "      <th>494018</th>\n",
              "      <td>11</td>\n",
              "      <td>38</td>\n",
              "    </tr>\n",
              "    <tr>\n",
              "      <th>494019</th>\n",
              "      <td>11</td>\n",
              "      <td>38</td>\n",
              "    </tr>\n",
              "    <tr>\n",
              "      <th>494020</th>\n",
              "      <td>11</td>\n",
              "      <td>38</td>\n",
              "    </tr>\n",
              "  </tbody>\n",
              "</table>\n",
              "<p>494021 rows × 2 columns</p>\n",
              "</div>\n",
              "      <button class=\"colab-df-convert\" onclick=\"convertToInteractive('df-89b94d8b-d417-4ad5-9709-88d385f50384')\"\n",
              "              title=\"Convert this dataframe to an interactive table.\"\n",
              "              style=\"display:none;\">\n",
              "        \n",
              "  <svg xmlns=\"http://www.w3.org/2000/svg\" height=\"24px\"viewBox=\"0 0 24 24\"\n",
              "       width=\"24px\">\n",
              "    <path d=\"M0 0h24v24H0V0z\" fill=\"none\"/>\n",
              "    <path d=\"M18.56 5.44l.94 2.06.94-2.06 2.06-.94-2.06-.94-.94-2.06-.94 2.06-2.06.94zm-11 1L8.5 8.5l.94-2.06 2.06-.94-2.06-.94L8.5 2.5l-.94 2.06-2.06.94zm10 10l.94 2.06.94-2.06 2.06-.94-2.06-.94-.94-2.06-.94 2.06-2.06.94z\"/><path d=\"M17.41 7.96l-1.37-1.37c-.4-.4-.92-.59-1.43-.59-.52 0-1.04.2-1.43.59L10.3 9.45l-7.72 7.72c-.78.78-.78 2.05 0 2.83L4 21.41c.39.39.9.59 1.41.59.51 0 1.02-.2 1.41-.59l7.78-7.78 2.81-2.81c.8-.78.8-2.07 0-2.86zM5.41 20L4 18.59l7.72-7.72 1.47 1.35L5.41 20z\"/>\n",
              "  </svg>\n",
              "      </button>\n",
              "      \n",
              "  <style>\n",
              "    .colab-df-container {\n",
              "      display:flex;\n",
              "      flex-wrap:wrap;\n",
              "      gap: 12px;\n",
              "    }\n",
              "\n",
              "    .colab-df-convert {\n",
              "      background-color: #E8F0FE;\n",
              "      border: none;\n",
              "      border-radius: 50%;\n",
              "      cursor: pointer;\n",
              "      display: none;\n",
              "      fill: #1967D2;\n",
              "      height: 32px;\n",
              "      padding: 0 0 0 0;\n",
              "      width: 32px;\n",
              "    }\n",
              "\n",
              "    .colab-df-convert:hover {\n",
              "      background-color: #E2EBFA;\n",
              "      box-shadow: 0px 1px 2px rgba(60, 64, 67, 0.3), 0px 1px 3px 1px rgba(60, 64, 67, 0.15);\n",
              "      fill: #174EA6;\n",
              "    }\n",
              "\n",
              "    [theme=dark] .colab-df-convert {\n",
              "      background-color: #3B4455;\n",
              "      fill: #D2E3FC;\n",
              "    }\n",
              "\n",
              "    [theme=dark] .colab-df-convert:hover {\n",
              "      background-color: #434B5C;\n",
              "      box-shadow: 0px 1px 3px 1px rgba(0, 0, 0, 0.15);\n",
              "      filter: drop-shadow(0px 1px 2px rgba(0, 0, 0, 0.3));\n",
              "      fill: #FFFFFF;\n",
              "    }\n",
              "  </style>\n",
              "\n",
              "      <script>\n",
              "        const buttonEl =\n",
              "          document.querySelector('#df-89b94d8b-d417-4ad5-9709-88d385f50384 button.colab-df-convert');\n",
              "        buttonEl.style.display =\n",
              "          google.colab.kernel.accessAllowed ? 'block' : 'none';\n",
              "\n",
              "        async function convertToInteractive(key) {\n",
              "          const element = document.querySelector('#df-89b94d8b-d417-4ad5-9709-88d385f50384');\n",
              "          const dataTable =\n",
              "            await google.colab.kernel.invokeFunction('convertToInteractive',\n",
              "                                                     [key], {});\n",
              "          if (!dataTable) return;\n",
              "\n",
              "          const docLinkHtml = 'Like what you see? Visit the ' +\n",
              "            '<a target=\"_blank\" href=https://colab.research.google.com/notebooks/data_table.ipynb>data table notebook</a>'\n",
              "            + ' to learn more about interactive tables.';\n",
              "          element.innerHTML = '';\n",
              "          dataTable['output_type'] = 'display_data';\n",
              "          await google.colab.output.renderOutput(dataTable, element);\n",
              "          const docLink = document.createElement('div');\n",
              "          docLink.innerHTML = docLinkHtml;\n",
              "          element.appendChild(docLink);\n",
              "        }\n",
              "      </script>\n",
              "    </div>\n",
              "  </div>\n",
              "  "
            ]
          },
          "metadata": {},
          "execution_count": 81
        }
      ],
      "source": [
        "train_result"
      ]
    },
    {
      "cell_type": "code",
      "execution_count": 82,
      "metadata": {
        "id": "0VICCmzOx0Cv"
      },
      "outputs": [],
      "source": [
        "c_perc, perc = percision(train_result, 45)\n"
      ]
    },
    {
      "cell_type": "code",
      "execution_count": 50,
      "metadata": {
        "id": "s1-FIfMwx0Cx",
        "colab": {
          "base_uri": "https://localhost:8080/"
        },
        "outputId": "37337706-7715-4701-e139-66e93c2aa9f0"
      },
      "outputs": [
        {
          "output_type": "stream",
          "name": "stdout",
          "text": [
            "cluster0 percision: 0.00011942812147661739\n",
            "cluster1 percision: 0.006076664757166193\n",
            "cluster2 percision: 0.02049305596320804\n",
            "cluster3 percision: 0.0033561326340378244\n",
            "cluster4 percision: 0.00011335550513034871\n",
            "cluster5 percision: 0.000240880448401991\n",
            "cluster6 percision: 0.011533922647012982\n",
            "cluster7 percision: 0.008270903463617944\n",
            "cluster8 percision: 0.0026699269869094634\n",
            "cluster9 percision: 0.026612229034798117\n",
            "cluster10 percision: 3.0363081731343407e-05\n",
            "cluster11 percision: 0.0012691768163701543\n",
            "cluster12 percision: 0.023420057042109543\n",
            "cluster13 percision: 0.008406525228684611\n",
            "cluster14 percision: 0.0013076367198965226\n",
            "cluster15 percision: 0.00010930709423283626\n",
            "cluster16 percision: 0.0039269585705870805\n",
            "cluster17 percision: 0.0008198032067462719\n",
            "cluster18 percision: 0.0015282751138109513\n",
            "cluster19 percision: 0.002613249234344289\n",
            "cluster20 percision: 3.441149262885586e-05\n",
            "cluster21 percision: 0.013817226393210006\n",
            "cluster22 percision: 0.031247659512449878\n",
            "cluster23 percision: 2.024205448756227e-06\n",
            "cluster24 percision: 0.06847077350962813\n",
            "cluster25 percision: 0.0006275036891144303\n",
            "cluster26 percision: 0.00412533070456519\n",
            "cluster27 percision: 0.036775764593003135\n",
            "cluster28 percision: 0.005072658854583105\n",
            "cluster29 percision: 0.0015667350173373196\n",
            "cluster30 percision: 0.0571615376674271\n",
            "cluster31 percision: 5.667775256517436e-05\n",
            "cluster32 percision: 0.03396414322468073\n",
            "cluster33 percision: 0.06085368840595846\n",
            "cluster34 percision: 0.00012145232692537362\n",
            "cluster35 percision: 0.06870558134168385\n",
            "cluster36 percision: 0.009793105961082627\n",
            "cluster37 percision: 0.005094925114519423\n",
            "cluster38 percision: 0.023533412547239892\n",
            "cluster39 percision: 0.004396574234698525\n",
            "cluster40 percision: 0.39199143356254085\n",
            "cluster41 percision: 0.04125937966199818\n",
            "cluster42 percision: 0.0011214098186109497\n",
            "cluster43 percision: 0.0001720574631442793\n",
            "cluster44 percision: 0.003184075170893545\n",
            "the total percision is: 0.986067393896211\n"
          ]
        }
      ],
      "source": [
        "for i in range(45):\n",
        "  print(f'cluster{i} percision: {c_perc[i]}')\n",
        "\n",
        "print(f'the total percision is: {perc}')"
      ]
    },
    {
      "cell_type": "code",
      "execution_count": 51,
      "metadata": {
        "id": "Xa2qZiJpx0Cz"
      },
      "outputs": [],
      "source": [
        "c_rec, rec = recall(train_result, 45)"
      ]
    },
    {
      "cell_type": "code",
      "execution_count": 52,
      "metadata": {
        "id": "2vf-4PTux0C1",
        "colab": {
          "base_uri": "https://localhost:8080/"
        },
        "outputId": "31ec1366-fb8e-4dea-8e39-afcc386aff57"
      },
      "outputs": [
        {
          "output_type": "stream",
          "name": "stdout",
          "text": [
            "cluster0 recall: 0.00021012144307133444\n",
            "cluster1 recall: 0.03086000945743128\n",
            "cluster2 recall: 0.10407286334011802\n",
            "cluster3 recall: 0.005904768688343602\n",
            "cluster4 recall: 0.05384615384615385\n",
            "cluster5 recall: 0.0012232981763605336\n",
            "cluster6 recall: 0.020292745468143452\n",
            "cluster7 recall: 0.04200333066058101\n",
            "cluster8 recall: 0.013559078106046589\n",
            "cluster9 recall: 0.1351487489463188\n",
            "cluster10 recall: 0.75\n",
            "cluster11 recall: 0.006445445013260964\n",
            "cluster12 recall: 0.04120517112432779\n",
            "cluster13 recall: 0.04269207837332182\n",
            "cluster14 recall: 0.006640761528814326\n",
            "cluster15 recall: 0.00019231454111613661\n",
            "cluster16 recall: 0.019942844219659122\n",
            "cluster17 recall: 0.004163325726269043\n",
            "cluster18 recall: 0.007761261539094143\n",
            "cluster19 recall: 0.8124606670862178\n",
            "cluster20 recall: 0.0001747568823372191\n",
            "cluster21 recall: 0.07017002816669751\n",
            "cluster22 recall: 0.14400052238318672\n",
            "cluster23 recall: 0.0009615384615384616\n",
            "cluster24 recall: 0.1204672531073044\n",
            "cluster25 recall: 0.0011040279212222658\n",
            "cluster26 recall: 0.02095026624725015\n",
            "cluster27 recall: 0.18676370813544688\n",
            "cluster28 recall: 0.02576122041982771\n",
            "cluster29 recall: 0.007956578054647506\n",
            "cluster30 recall: 0.26342105017677075\n",
            "cluster31 recall: 0.00028783486502600796\n",
            "cluster32 recall: 0.17248504286683525\n",
            "cluster33 recall: 0.2804358168300669\n",
            "cluster34 recall: 0.058823529411764705\n",
            "cluster35 recall: 0.12088037323266498\n",
            "cluster36 recall: 0.049733752749850944\n",
            "cluster37 recall: 0.0258742984025165\n",
            "cluster38 recall: 0.10845048087237992\n",
            "cluster39 recall: 0.9859282796187018\n",
            "cluster40 recall: 0.6896684354855942\n",
            "cluster41 recall: 0.19013815169634612\n",
            "cluster42 recall: 0.005695018400871729\n",
            "cluster43 recall: 0.0008737844116860955\n",
            "cluster44 recall: 0.016170151524496804\n",
            "the total recall is: 0.3639652392586135\n"
          ]
        }
      ],
      "source": [
        "for i in range(45):\n",
        "  print(f'cluster{i} recall: {c_rec[i]}')\n",
        "\n",
        "print(f'the total recall is: {rec}')"
      ]
    },
    {
      "cell_type": "code",
      "execution_count": 83,
      "metadata": {
        "id": "fOFra1rAx0C3",
        "colab": {
          "base_uri": "https://localhost:8080/"
        },
        "outputId": "5a9618b0-bef1-432e-b4bf-93a35124bc08"
      },
      "outputs": [
        {
          "output_type": "execute_result",
          "data": {
            "text/plain": [
              "0.013649659796455636"
            ]
          },
          "metadata": {},
          "execution_count": 83
        }
      ],
      "source": [
        "F1_score(c_perc, c_rec, 45)"
      ]
    },
    {
      "cell_type": "code",
      "execution_count": 84,
      "metadata": {
        "id": "XHSZFFfDx0C4",
        "colab": {
          "base_uri": "https://localhost:8080/"
        },
        "outputId": "ad0d1550-1720-4c67-c307-5684facd3bd3"
      },
      "outputs": [
        {
          "output_type": "execute_result",
          "data": {
            "text/plain": [
              "0.052186198860254066"
            ]
          },
          "metadata": {},
          "execution_count": 84
        }
      ],
      "source": [
        "Conditional_Entropy(train_result, 45)"
      ]
    },
    {
      "cell_type": "markdown",
      "metadata": {
        "id": "E9YmrUQxx0C6"
      },
      "source": [
        "### test model"
      ]
    },
    {
      "cell_type": "code",
      "execution_count": 85,
      "metadata": {
        "id": "9JbwvvLLx0C7"
      },
      "outputs": [],
      "source": [
        "test_clustered= KNN_model_test(x_test, centroids, 45)"
      ]
    },
    {
      "cell_type": "code",
      "execution_count": 86,
      "metadata": {
        "id": "14caZUKlx0C7"
      },
      "outputs": [],
      "source": [
        "test_clustered['target'] = y_test\n",
        "test_result = test_clustered[['target', 'cluster']]"
      ]
    },
    {
      "cell_type": "code",
      "execution_count": 180,
      "metadata": {
        "id": "p-WVZ79tx0C8",
        "colab": {
          "base_uri": "https://localhost:8080/"
        },
        "outputId": "b75f3361-ffd5-4d29-f2b4-ccb1b510d747"
      },
      "outputs": [
        {
          "output_type": "stream",
          "name": "stdout",
          "text": [
            "cluster number 0 is 16\n",
            "cluster number 1 is 14\n",
            "cluster number 2 is 16\n",
            "cluster number 3 is 21\n",
            "cluster number 4 is 1\n",
            "cluster number 5 is 16\n",
            "cluster number 6 is 16\n",
            "cluster number 7 is 14\n",
            "cluster number 8 is 14\n",
            "cluster number 9 is 16\n",
            "cluster number 10 is 25\n",
            "cluster number 11 is 16\n",
            "cluster number 12 is 14\n",
            "cluster number 14 is 16\n",
            "cluster number 15 is 16\n",
            "cluster number 16 is 14\n",
            "cluster number 17 is 14\n",
            "cluster number 18 is 16\n",
            "cluster number 19 is 16\n",
            "cluster number 20 is 14\n",
            "cluster number 21 is 14\n",
            "cluster number 22 is 14\n",
            "cluster number 23 is 16\n",
            "cluster number 24 is 16\n",
            "cluster number 25 is 16\n",
            "cluster number 26 is 16\n",
            "cluster number 27 is 27\n",
            "cluster number 28 is 16\n",
            "cluster number 29 is 16\n",
            "cluster number 30 is 16\n",
            "cluster number 31 is 14\n",
            "cluster number 32 is 16\n",
            "cluster number 33 is 27\n",
            "cluster number 34 is 16\n",
            "cluster number 35 is 16\n",
            "cluster number 36 is 27\n",
            "cluster number 37 is 16\n",
            "cluster number 38 is 16\n",
            "cluster number 39 is 16\n",
            "cluster number 40 is 16\n",
            "cluster number 41 is 16\n",
            "cluster number 42 is 10\n",
            "cluster number 43 is 27\n",
            "cluster number 44 is 27\n"
          ]
        }
      ],
      "source": [
        "values = np.sort(test_result['cluster'].unique())\n",
        "\n",
        "for i in values: \n",
        "  print(f\"cluster number {i} is {test_result[test_result['cluster'] == i].value_counts().idxmax()[0]}\")"
      ]
    },
    {
      "cell_type": "code",
      "execution_count": 88,
      "metadata": {
        "id": "FssjZ5Ghx0C9"
      },
      "outputs": [],
      "source": [
        "c_perc, perc = percision(test_result, 45)\n"
      ]
    },
    {
      "cell_type": "code",
      "execution_count": 89,
      "metadata": {
        "id": "U1x3E_UUx0C9",
        "colab": {
          "base_uri": "https://localhost:8080/"
        },
        "outputId": "2a162b4f-6be5-4ff8-a5ce-0e6729bbf567"
      },
      "outputs": [
        {
          "output_type": "stream",
          "name": "stdout",
          "text": [
            "cluster0 percision: 1.2860619817572108e-05\n",
            "cluster1 percision: 0.017850540306790084\n",
            "cluster2 percision: 2.5721239635144213e-05\n",
            "cluster3 percision: 0.0016300835618772648\n",
            "cluster4 percision: 0.0034209248714741802\n",
            "cluster5 percision: 0.04491892986782498\n",
            "cluster6 percision: 0.0027553877959148243\n",
            "cluster7 percision: 0.017101409202416512\n",
            "cluster8 percision: 0.013696560105714295\n",
            "cluster9 percision: 2.8936394589537245e-05\n",
            "cluster10 percision: 0.003977146678584174\n",
            "cluster11 percision: 0.002202381143759223\n",
            "cluster12 percision: 0.016480884296218655\n",
            "cluster13 percision: 0\n",
            "cluster14 percision: 3.215154954393027e-06\n",
            "cluster15 percision: 0.00016075774771965134\n",
            "cluster16 percision: 0.007009037800576799\n",
            "cluster17 percision: 0.016795969481749173\n",
            "cluster18 percision: 0.02035193086130786\n",
            "cluster19 percision: 3.53667044983233e-05\n",
            "cluster20 percision: 0.016230102209776002\n",
            "cluster21 percision: 0.022371048172666684\n",
            "cluster22 percision: 0.02362174344992557\n",
            "cluster23 percision: 0.030479668967645892\n",
            "cluster24 percision: 3.536670449832329e-05\n",
            "cluster25 percision: 2.250608468075119e-05\n",
            "cluster26 percision: 0.0002250608468075119\n",
            "cluster27 percision: 0.00020898507203554676\n",
            "cluster28 percision: 0.0007427007944647892\n",
            "cluster29 percision: 8.359402881421871e-05\n",
            "cluster30 percision: 0.0007394856395103963\n",
            "cluster31 percision: 0.03403563034720459\n",
            "cluster32 percision: 0.030971587675668027\n",
            "cluster33 percision: 0.17601365797824625\n",
            "cluster34 percision: 1.6075774771965135e-05\n",
            "cluster35 percision: 0.004031804312808856\n",
            "cluster36 percision: 1.929092972635816e-05\n",
            "cluster37 percision: 0.013947342192156952\n",
            "cluster38 percision: 0.026325688766570106\n",
            "cluster39 percision: 2.250608468075119e-05\n",
            "cluster40 percision: 0.0009516858665003359\n",
            "cluster41 percision: 0.004395116822655268\n",
            "cluster42 percision: 0.016075774771965135\n",
            "cluster43 percision: 0.10471116655467211\n",
            "cluster44 percision: 0.24650914550826777\n",
            "the total percision is: 0.9212447793921428\n"
          ]
        }
      ],
      "source": [
        "for i in range(45):\n",
        "  print(f'cluster{i} percision: {c_perc[i]}')\n",
        "\n",
        "print(f'the total percision is: {perc}')"
      ]
    },
    {
      "cell_type": "code",
      "execution_count": 90,
      "metadata": {
        "id": "ZK0WuHD5x0C-"
      },
      "outputs": [],
      "source": [
        "c_rec, rec = recall(test_result, 45)"
      ]
    },
    {
      "cell_type": "code",
      "execution_count": 91,
      "metadata": {
        "id": "iST4LpElx0C_",
        "colab": {
          "base_uri": "https://localhost:8080/"
        },
        "outputId": "1ee89df8-7dbd-4a5f-82e7-d99ce2655246"
      },
      "outputs": [
        {
          "output_type": "stream",
          "name": "stdout",
          "text": [
            "cluster0 recall: 6.601640507666154e-05\n",
            "cluster1 recall: 0.09572248754331822\n",
            "cluster2 recall: 0.0001320328101533231\n",
            "cluster3 recall: 0.6679841897233202\n",
            "cluster4 recall: 0.9690346083788707\n",
            "cluster5 recall: 0.23057879883150964\n",
            "cluster6 recall: 0.014144014787674738\n",
            "cluster7 recall: 0.09170531542559611\n",
            "cluster8 recall: 0.07344700953431837\n",
            "cluster9 recall: 0.00014853691142248848\n",
            "cluster10 recall: 0.7575015309246785\n",
            "cluster11 recall: 0.011305309369378291\n",
            "cluster12 recall: 0.08837778658988638\n",
            "cluster13 recall: 0\n",
            "cluster14 recall: 1.6504101269165386e-05\n",
            "cluster15 recall: 0.0008252050634582694\n",
            "cluster16 recall: 0.037585558869674664\n",
            "cluster17 recall: 0.0900674126308167\n",
            "cluster18 recall: 0.10447096103381691\n",
            "cluster19 recall: 0.00018154511396081927\n",
            "cluster20 recall: 0.08703298218996224\n",
            "cluster21 recall: 0.11996344890605334\n",
            "cluster22 recall: 0.12667022982362372\n",
            "cluster23 recall: 0.15645888003168787\n",
            "cluster24 recall: 0.00018154511396081927\n",
            "cluster25 recall: 0.00011552870888415771\n",
            "cluster26 recall: 0.0011552870888415772\n",
            "cluster27 recall: 0.00039612166419852396\n",
            "cluster28 recall: 0.0038124473931772044\n",
            "cluster29 recall: 0.00042910663299830005\n",
            "cluster30 recall: 0.003795943291908039\n",
            "cluster31 recall: 0.18251409458457613\n",
            "cluster32 recall: 0.1589840075258702\n",
            "cluster33 recall: 0.3336258539468953\n",
            "cluster34 recall: 8.252050634582694e-05\n",
            "cluster35 recall: 0.020696142991533398\n",
            "cluster36 recall: 3.656507669524837e-05\n",
            "cluster37 recall: 0.07159479130563945\n",
            "cluster38 recall: 0.1351355811919262\n",
            "cluster39 recall: 0.00011552870888415771\n",
            "cluster40 recall: 0.004885213975672955\n",
            "cluster41 recall: 0.022561106434949085\n",
            "cluster42 recall: 1.0\n",
            "cluster43 recall: 0.19847523630180813\n",
            "cluster44 recall: 0.46724683255023125\n",
            "the total recall is: 0.28673515494660595\n"
          ]
        }
      ],
      "source": [
        "for i in range(45):\n",
        "  print(f'cluster{i} recall: {c_rec[i]}')\n",
        "\n",
        "print(f'the total recall is: {rec}')"
      ]
    },
    {
      "cell_type": "code",
      "execution_count": 93,
      "metadata": {
        "id": "I44c-PLix0DA",
        "colab": {
          "base_uri": "https://localhost:8080/"
        },
        "outputId": "a616f32e-6c2b-45d6-b755-fef84e0b4e8a"
      },
      "outputs": [
        {
          "output_type": "execute_result",
          "data": {
            "text/plain": [
              "0.030211586097324383"
            ]
          },
          "metadata": {},
          "execution_count": 93
        }
      ],
      "source": [
        "F1_score(c_perc, c_rec, 45)"
      ]
    },
    {
      "cell_type": "code",
      "execution_count": 94,
      "metadata": {
        "id": "Y2n5pPSSx0DA",
        "colab": {
          "base_uri": "https://localhost:8080/"
        },
        "outputId": "4511cd6a-260b-4283-ab66-16f8ebb061c9"
      },
      "outputs": [
        {
          "output_type": "execute_result",
          "data": {
            "text/plain": [
              "0.2256701340879011"
            ]
          },
          "metadata": {},
          "execution_count": 94
        }
      ],
      "source": [
        "Conditional_Entropy(test_result, 45)"
      ]
    },
    {
      "cell_type": "code",
      "execution_count": null,
      "metadata": {
        "id": "Ncow_ChnxzW9"
      },
      "outputs": [],
      "source": []
    }
  ],
  "metadata": {
    "colab": {
      "provenance": []
    },
    "kernelspec": {
      "display_name": "Python 3",
      "name": "python3"
    },
    "language_info": {
      "name": "python"
    }
  },
  "nbformat": 4,
  "nbformat_minor": 0
}